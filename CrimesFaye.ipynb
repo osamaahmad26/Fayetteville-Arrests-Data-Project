{
 "cells": [
  {
   "cell_type": "code",
   "execution_count": 3,
   "id": "3b92a147-0b9e-4155-87cf-bdae80ee1e17",
   "metadata": {
    "jupyter": {
     "source_hidden": true
    }
   },
   "outputs": [],
   "source": [
    "import pandas as pd\n",
    "\n",
    "from collections import Counter as Ct\n",
    "\n",
    "import numpy as np\n",
    "\n",
    "import altair as alt\n",
    "alt.data_transformers.enable(\"vegafusion\") # for altair to work with large datasets\n",
    "\n",
    "import calendar"
   ]
  },
  {
   "cell_type": "code",
   "execution_count": 4,
   "id": "1af7b727-d04f-4814-b175-d928f091452a",
   "metadata": {
    "jupyter": {
     "source_hidden": true
    }
   },
   "outputs": [
    {
     "name": "stdout",
     "output_type": "stream",
     "text": [
      "The Dataset has 92865 rows.\n"
     ]
    }
   ],
   "source": [
    "# Open the Csv\n",
    "directory = '' # Add the path\n",
    "\n",
    "original_data = pd.read_csv(directory)\n",
    "\n",
    "print(f\"The Dataset has {len(original_data)} rows.\")"
   ]
  },
  {
   "cell_type": "code",
   "execution_count": 3,
   "id": "ff9c5147-9c96-4363-a63a-a9fcba7cb4c1",
   "metadata": {
    "jupyter": {
     "source_hidden": true
    }
   },
   "outputs": [
    {
     "name": "stdout",
     "output_type": "stream",
     "text": [
      "<class 'pandas.core.frame.DataFrame'>\n",
      "RangeIndex: 92865 entries, 0 to 92864\n",
      "Data columns (total 20 columns):\n",
      " #   Column            Non-Null Count  Dtype  \n",
      "---  ------            --------------  -----  \n",
      " 0   X                 90950 non-null  float64\n",
      " 1   Y                 90950 non-null  float64\n",
      " 2   OBJECTID          92865 non-null  int64  \n",
      " 3   date_arr          92865 non-null  object \n",
      " 4   ArrestedAtAddr    92264 non-null  object \n",
      " 5   case_id           92462 non-null  float64\n",
      " 6   ar_race           92710 non-null  object \n",
      " 7   ar_sex            92816 non-null  object \n",
      " 8   charge            92864 non-null  object \n",
      " 9   time_arr          92865 non-null  int64  \n",
      " 10  city              92697 non-null  object \n",
      " 11  state             92784 non-null  object \n",
      " 12  zip               38620 non-null  object \n",
      " 13  typebond          83190 non-null  object \n",
      " 14  bond_amt          92865 non-null  float64\n",
      " 15  district          90629 non-null  object \n",
      " 16  tract             90484 non-null  object \n",
      " 17  zone              87594 non-null  object \n",
      " 18  reportarea        88922 non-null  object \n",
      " 19  oau_Arresst_Type  92865 non-null  object \n",
      "dtypes: float64(4), int64(2), object(14)\n",
      "memory usage: 14.2+ MB\n"
     ]
    }
   ],
   "source": [
    "original_data.info()"
   ]
  },
  {
   "cell_type": "code",
   "execution_count": 4,
   "id": "2602e0b7-2deb-42d6-b523-6a2ff8346a83",
   "metadata": {
    "jupyter": {
     "source_hidden": true
    }
   },
   "outputs": [],
   "source": [
    "# Slicing the Data by columns to only subset columns that I will use for EDA\n",
    "data = original_data[['OBJECTID', 'date_arr', 'ArrestedAtAddr', 'case_id', \n",
    "                      'ar_race', 'ar_sex', 'charge', 'time_arr', 'city', 'state']]"
   ]
  },
  {
   "cell_type": "code",
   "execution_count": 5,
   "id": "f900f8e2-a875-41bd-b9d4-6f1d2ac80d16",
   "metadata": {
    "jupyter": {
     "source_hidden": true
    }
   },
   "outputs": [
    {
     "name": "stdout",
     "output_type": "stream",
     "text": [
      "<class 'pandas.core.frame.DataFrame'>\n",
      "RangeIndex: 92865 entries, 0 to 92864\n",
      "Data columns (total 10 columns):\n",
      " #   Column          Non-Null Count  Dtype  \n",
      "---  ------          --------------  -----  \n",
      " 0   OBJECTID        92865 non-null  int64  \n",
      " 1   date_arr        92865 non-null  object \n",
      " 2   ArrestedAtAddr  92264 non-null  object \n",
      " 3   case_id         92462 non-null  float64\n",
      " 4   ar_race         92710 non-null  object \n",
      " 5   ar_sex          92816 non-null  object \n",
      " 6   charge          92864 non-null  object \n",
      " 7   time_arr        92865 non-null  int64  \n",
      " 8   city            92697 non-null  object \n",
      " 9   state           92784 non-null  object \n",
      "dtypes: float64(1), int64(2), object(7)\n",
      "memory usage: 7.1+ MB\n"
     ]
    }
   ],
   "source": [
    "data.info()"
   ]
  },
  {
   "cell_type": "code",
   "execution_count": 6,
   "id": "f21551cc-2224-4567-987c-63a3c8ddeeb9",
   "metadata": {
    "jupyter": {
     "source_hidden": true
    }
   },
   "outputs": [
    {
     "name": "stdout",
     "output_type": "stream",
     "text": [
      "0 out of 92865 OBJECTID(s) missing.\n",
      "\n",
      "0 out of 92865 date_arr(s) missing.\n",
      "\n",
      "601 out of 92865 ArrestedAtAddr(s) missing.\n",
      "\n",
      "403 out of 92865 case_id(s) missing.\n",
      "\n",
      "155 out of 92865 ar_race(s) missing.\n",
      "\n",
      "49 out of 92865 ar_sex(s) missing.\n",
      "\n",
      "1 out of 92865 charge(s) missing.\n",
      "\n",
      "0 out of 92865 time_arr(s) missing.\n",
      "\n",
      "168 out of 92865 city(s) missing.\n",
      "\n",
      "81 out of 92865 state(s) missing.\n",
      "\n"
     ]
    }
   ],
   "source": [
    "# Checking missing values in each column\n",
    "\n",
    "for col in list(data.columns):\n",
    "    print(f\"{len(data[data[col].isna()])} out of {len(data)} {col}(s) missing.\\n\")"
   ]
  },
  {
   "cell_type": "code",
   "execution_count": 7,
   "id": "8a3f57fb-7da1-4444-b90d-8fbe78781550",
   "metadata": {
    "jupyter": {
     "source_hidden": true
    }
   },
   "outputs": [],
   "source": [
    "#Replacing Missing Values with Keyword 'Missing' because most String Columns are missing Values\n",
    "data = data.fillna('Missing')"
   ]
  },
  {
   "cell_type": "code",
   "execution_count": 8,
   "id": "c5c6b477-9531-48a0-8bea-9f690fa834da",
   "metadata": {
    "jupyter": {
     "source_hidden": true
    }
   },
   "outputs": [
    {
     "name": "stdout",
     "output_type": "stream",
     "text": [
      "0 out of 92865 OBJECTID(s) missing.\n",
      "\n",
      "0 out of 92865 date_arr(s) missing.\n",
      "\n",
      "0 out of 92865 ArrestedAtAddr(s) missing.\n",
      "\n",
      "0 out of 92865 case_id(s) missing.\n",
      "\n",
      "0 out of 92865 ar_race(s) missing.\n",
      "\n",
      "0 out of 92865 ar_sex(s) missing.\n",
      "\n",
      "0 out of 92865 charge(s) missing.\n",
      "\n",
      "0 out of 92865 time_arr(s) missing.\n",
      "\n",
      "0 out of 92865 city(s) missing.\n",
      "\n",
      "0 out of 92865 state(s) missing.\n",
      "\n"
     ]
    }
   ],
   "source": [
    "# Now checking if there are any missing values\n",
    "for col in list(data.columns):\n",
    "    print(f\"{len(data[data[col].isna()])} out of {len(data)} {col}(s) missing.\\n\")"
   ]
  },
  {
   "cell_type": "code",
   "execution_count": 9,
   "id": "0c91611d-a25e-497b-8239-13374ada4f09",
   "metadata": {
    "jupyter": {
     "source_hidden": true
    }
   },
   "outputs": [
    {
     "name": "stdout",
     "output_type": "stream",
     "text": [
      "Number of Duplicates in this dataset is 0\n"
     ]
    }
   ],
   "source": [
    "# Duplicate Values\n",
    "duplicates = data.duplicated()[data.duplicated() == True]\n",
    "print(f'Number of Duplicates in this dataset is {len(duplicates)}')"
   ]
  },
  {
   "cell_type": "markdown",
   "id": "31eb0b59-f490-4c23-8996-912c98493a6a",
   "metadata": {},
   "source": [
    "## Column Wise Data Check"
   ]
  },
  {
   "cell_type": "code",
   "execution_count": 10,
   "id": "65f7b75c-d4a4-4984-ab6b-5d72ff1a34b5",
   "metadata": {
    "jupyter": {
     "source_hidden": true
    }
   },
   "outputs": [
    {
     "name": "stdout",
     "output_type": "stream",
     "text": [
      "The amount of compromised Dates is: 0\n"
     ]
    }
   ],
   "source": [
    "# Checking for all the dates being in the Data range\n",
    "\n",
    "data['date_arr'] = pd.to_datetime(data['date_arr'])\n",
    "\n",
    "min_date = min(data['date_arr'])\n",
    "max_date = max(data['date_arr'])\n",
    "\n",
    "dateArrCheck = [0 if i >= min_date and i <= max_date else 1 for i in data['date_arr']]\n",
    "\n",
    "# if any values outside of that range exist, this sum should be greater than 1\n",
    "\n",
    "print(f'The amount of compromised Dates is: {sum(dateArrCheck)}')"
   ]
  },
  {
   "cell_type": "code",
   "execution_count": 11,
   "id": "d0127102-4854-486e-b2c9-17cfe56367d5",
   "metadata": {
    "jupyter": {
     "source_hidden": true
    }
   },
   "outputs": [
    {
     "name": "stdout",
     "output_type": "stream",
     "text": [
      "0 9999038314\n"
     ]
    }
   ],
   "source": [
    "# Checking for case_id \n",
    "\n",
    "\n",
    "# Exlcuding missing values, changing the rest of ids into integer\n",
    "cleaned_case_id = [int(i) for i in data['case_id'][data['case_id'] != 'Missing']]\n",
    "\n",
    "\n",
    "min_id = min(cleaned_case_id)\n",
    "max_id = max(cleaned_case_id)\n",
    "\n",
    "print(min_id, max_id)"
   ]
  },
  {
   "cell_type": "code",
   "execution_count": 12,
   "id": "f1937cb2-ea52-41ab-9df1-3b9950859e29",
   "metadata": {
    "jupyter": {
     "source_hidden": true
    }
   },
   "outputs": [
    {
     "name": "stdout",
     "output_type": "stream",
     "text": [
      "The amount of compromised CaseIds is: 0\n"
     ]
    }
   ],
   "source": [
    "# Testing case_id for being in its column limits\n",
    "\n",
    "caseIDCheck = [0 if i >= min_id and i <= max_id else 1 for i in cleaned_case_id]\n",
    "\n",
    "# if any values outside of that range exist, this sum should be greater than 1\n",
    "\n",
    "print(f'The amount of compromised CaseIds is: {sum(caseIDCheck)}')"
   ]
  },
  {
   "cell_type": "code",
   "execution_count": 13,
   "id": "193cc928-5904-4937-82c2-249e1ab514b2",
   "metadata": {
    "jupyter": {
     "source_hidden": true
    }
   },
   "outputs": [
    {
     "data": {
      "text/html": [
       "<div>\n",
       "<style scoped>\n",
       "    .dataframe tbody tr th:only-of-type {\n",
       "        vertical-align: middle;\n",
       "    }\n",
       "\n",
       "    .dataframe tbody tr th {\n",
       "        vertical-align: top;\n",
       "    }\n",
       "\n",
       "    .dataframe thead th {\n",
       "        text-align: right;\n",
       "    }\n",
       "</style>\n",
       "<table border=\"1\" class=\"dataframe\">\n",
       "  <thead>\n",
       "    <tr style=\"text-align: right;\">\n",
       "      <th></th>\n",
       "      <th>OBJECTID</th>\n",
       "      <th>date_arr</th>\n",
       "      <th>ArrestedAtAddr</th>\n",
       "      <th>case_id</th>\n",
       "      <th>ar_race</th>\n",
       "      <th>ar_sex</th>\n",
       "      <th>charge</th>\n",
       "      <th>time_arr</th>\n",
       "      <th>city</th>\n",
       "      <th>state</th>\n",
       "    </tr>\n",
       "  </thead>\n",
       "  <tbody>\n",
       "    <tr>\n",
       "      <th>2016</th>\n",
       "      <td>2017</td>\n",
       "      <td>2011-10-28 04:00:00+00:00</td>\n",
       "      <td>Missing</td>\n",
       "      <td>9999038314.0</td>\n",
       "      <td>W</td>\n",
       "      <td>F</td>\n",
       "      <td>NO OPERATOR LICENSE, M</td>\n",
       "      <td>1641</td>\n",
       "      <td>FAYETTEVILLE</td>\n",
       "      <td>NC</td>\n",
       "    </tr>\n",
       "    <tr>\n",
       "      <th>16812</th>\n",
       "      <td>16813</td>\n",
       "      <td>2015-03-29 04:00:00+00:00</td>\n",
       "      <td>2130  BRAGG BLVD/MCPHERSON AVE</td>\n",
       "      <td>9999008595.0</td>\n",
       "      <td>B</td>\n",
       "      <td>M</td>\n",
       "      <td>POSSESS CONTROL SUBSTANCE SCHEDULE VI</td>\n",
       "      <td>2258</td>\n",
       "      <td>FAYETTEVILLE</td>\n",
       "      <td>NC</td>\n",
       "    </tr>\n",
       "  </tbody>\n",
       "</table>\n",
       "</div>"
      ],
      "text/plain": [
       "       OBJECTID                  date_arr                  ArrestedAtAddr   \n",
       "2016       2017 2011-10-28 04:00:00+00:00                         Missing  \\\n",
       "16812     16813 2015-03-29 04:00:00+00:00  2130  BRAGG BLVD/MCPHERSON AVE   \n",
       "\n",
       "            case_id ar_race ar_sex                                 charge   \n",
       "2016   9999038314.0       W      F                 NO OPERATOR LICENSE, M  \\\n",
       "16812  9999008595.0       B      M  POSSESS CONTROL SUBSTANCE SCHEDULE VI   \n",
       "\n",
       "       time_arr          city state  \n",
       "2016       1641  FAYETTEVILLE    NC  \n",
       "16812      2258  FAYETTEVILLE    NC  "
      ]
     },
     "execution_count": 13,
     "metadata": {},
     "output_type": "execute_result"
    }
   ],
   "source": [
    "\n",
    "nine_999 = [i for i in cleaned_case_id if str(i)[0:4] == '9999']\n",
    "\n",
    "# Trying to find why these values have 9999 in the start of their case IDs\n",
    "data.query('case_id in @nine_999')"
   ]
  },
  {
   "cell_type": "code",
   "execution_count": 14,
   "id": "bd0d09a7-ffe1-48b4-9b46-9d7ec1e9d4b7",
   "metadata": {
    "jupyter": {
     "source_hidden": true
    }
   },
   "outputs": [
    {
     "name": "stdout",
     "output_type": "stream",
     "text": [
      "{'Less than 9': 9, 'Equal to 9': 64, 'Greater than 9': 92389}\n"
     ]
    }
   ],
   "source": [
    "counts = {'Less than 9': 0, 'Equal to 9': 0, 'Greater than 9': 0}\n",
    "for i in cleaned_case_id:\n",
    "    if len(str(i)) < 9:\n",
    "        counts['Less than 9'] += 1\n",
    "    elif len(str(i)) == 9:\n",
    "        counts['Equal to 9'] += 1\n",
    "    elif len(str(i)) > 9:\n",
    "        counts['Greater than 9'] += 1\n",
    "    else:\n",
    "        name = f'Count {len(str(i))}'\n",
    "        counts[name] = 0\n",
    "        counts[name] += 1\n",
    "\n",
    "print(counts)"
   ]
  },
  {
   "cell_type": "code",
   "execution_count": 15,
   "id": "a8c827a4-6740-42ab-b756-3770bc23b700",
   "metadata": {
    "jupyter": {
     "source_hidden": true
    }
   },
   "outputs": [
    {
     "name": "stdout",
     "output_type": "stream",
     "text": [
      "Counter({True: 92389, False: 73})\n"
     ]
    }
   ],
   "source": [
    "# How greater lengths are for the values longer than 9?\n",
    "tens = []\n",
    "for i in cleaned_case_id:\n",
    "    if len(str(i)) == 10:\n",
    "        tens.append(True)\n",
    "    else:\n",
    "        tens.append(False)\n",
    "\n",
    "print(Ct(tens))\n",
    "# This proves that All of the values greater than 9 are of length 10"
   ]
  },
  {
   "cell_type": "code",
   "execution_count": 16,
   "id": "ea399f4e-efce-4429-a4c3-7abffc4d62ef",
   "metadata": {
    "jupyter": {
     "source_hidden": true
    }
   },
   "outputs": [
    {
     "name": "stdout",
     "output_type": "stream",
     "text": [
      "Counter({4: 3, 8: 3, 7: 2, 1: 1})\n"
     ]
    },
    {
     "data": {
      "text/html": [
       "<div>\n",
       "<style scoped>\n",
       "    .dataframe tbody tr th:only-of-type {\n",
       "        vertical-align: middle;\n",
       "    }\n",
       "\n",
       "    .dataframe tbody tr th {\n",
       "        vertical-align: top;\n",
       "    }\n",
       "\n",
       "    .dataframe thead th {\n",
       "        text-align: right;\n",
       "    }\n",
       "</style>\n",
       "<table border=\"1\" class=\"dataframe\">\n",
       "  <thead>\n",
       "    <tr style=\"text-align: right;\">\n",
       "      <th></th>\n",
       "      <th>OBJECTID</th>\n",
       "      <th>date_arr</th>\n",
       "      <th>ArrestedAtAddr</th>\n",
       "      <th>case_id</th>\n",
       "      <th>ar_race</th>\n",
       "      <th>ar_sex</th>\n",
       "      <th>charge</th>\n",
       "      <th>time_arr</th>\n",
       "      <th>city</th>\n",
       "      <th>state</th>\n",
       "    </tr>\n",
       "  </thead>\n",
       "  <tbody>\n",
       "    <tr>\n",
       "      <th>1126</th>\n",
       "      <td>1127</td>\n",
       "      <td>2010-05-06 04:00:00+00:00</td>\n",
       "      <td>CLINTON RD</td>\n",
       "      <td>2010.0</td>\n",
       "      <td>I</td>\n",
       "      <td>M</td>\n",
       "      <td>LARCENY</td>\n",
       "      <td>2212</td>\n",
       "      <td>FAYETTEVILLE</td>\n",
       "      <td>NC</td>\n",
       "    </tr>\n",
       "    <tr>\n",
       "      <th>6273</th>\n",
       "      <td>6274</td>\n",
       "      <td>2012-12-19 05:00:00+00:00</td>\n",
       "      <td>6415  INDEPENDENCE PLACE DR</td>\n",
       "      <td>2192012.0</td>\n",
       "      <td>B</td>\n",
       "      <td>M</td>\n",
       "      <td>BREAKING AND ENTERING - BUILDING, M</td>\n",
       "      <td>120</td>\n",
       "      <td>FAYETTEVILLE</td>\n",
       "      <td>NC</td>\n",
       "    </tr>\n",
       "    <tr>\n",
       "      <th>66066</th>\n",
       "      <td>66067</td>\n",
       "      <td>2018-05-01 04:00:00+00:00</td>\n",
       "      <td>410  WORTH ST</td>\n",
       "      <td>18011772.0</td>\n",
       "      <td>W</td>\n",
       "      <td>M</td>\n",
       "      <td>FAILURE TO APPEAR, M</td>\n",
       "      <td>657</td>\n",
       "      <td>FAYETTEVILLE</td>\n",
       "      <td>NC</td>\n",
       "    </tr>\n",
       "    <tr>\n",
       "      <th>79818</th>\n",
       "      <td>473172</td>\n",
       "      <td>2021-01-13 05:00:00+00:00</td>\n",
       "      <td>6901  TWIN CREEK CT</td>\n",
       "      <td>2021.0</td>\n",
       "      <td>B</td>\n",
       "      <td>M</td>\n",
       "      <td>WARRANT/ORDER FOR ARREST</td>\n",
       "      <td>2116</td>\n",
       "      <td>FAYETTEVILLE</td>\n",
       "      <td>NC</td>\n",
       "    </tr>\n",
       "    <tr>\n",
       "      <th>80226</th>\n",
       "      <td>485744</td>\n",
       "      <td>2021-02-15 05:00:00+00:00</td>\n",
       "      <td>708  MAYFLOWER CT</td>\n",
       "      <td>2021.0</td>\n",
       "      <td>B</td>\n",
       "      <td>M</td>\n",
       "      <td>WARRANT/ORDER FOR ARREST</td>\n",
       "      <td>2335</td>\n",
       "      <td>FAYETTEVILLE</td>\n",
       "      <td>NC</td>\n",
       "    </tr>\n",
       "    <tr>\n",
       "      <th>84198</th>\n",
       "      <td>603785</td>\n",
       "      <td>2022-01-31 05:00:00+00:00</td>\n",
       "      <td>6900  CLIFFDALE RD</td>\n",
       "      <td>0.0</td>\n",
       "      <td>W</td>\n",
       "      <td>F</td>\n",
       "      <td>DRUGS- EQUIPMENT/PARAPHERNALIA - POSSESSING/C</td>\n",
       "      <td>1637</td>\n",
       "      <td>FAYETTEVILLE</td>\n",
       "      <td>NC</td>\n",
       "    </tr>\n",
       "    <tr>\n",
       "      <th>85180</th>\n",
       "      <td>632033</td>\n",
       "      <td>2022-04-15 04:00:00+00:00</td>\n",
       "      <td>3627  CANBY OAK LN</td>\n",
       "      <td>24983376.0</td>\n",
       "      <td>B</td>\n",
       "      <td>M</td>\n",
       "      <td>FAIL TO APPEAR</td>\n",
       "      <td>436</td>\n",
       "      <td>FAYETTEVILLE</td>\n",
       "      <td>NC</td>\n",
       "    </tr>\n",
       "    <tr>\n",
       "      <th>85678</th>\n",
       "      <td>647123</td>\n",
       "      <td>2022-05-21 04:00:00+00:00</td>\n",
       "      <td>1408  SKIBO RD</td>\n",
       "      <td>33052424.0</td>\n",
       "      <td>B</td>\n",
       "      <td>M</td>\n",
       "      <td>VANDALISM-TO REAL PROPERTY WILLFUL AND WANTON ...</td>\n",
       "      <td>125</td>\n",
       "      <td>FAYETTEVILLE</td>\n",
       "      <td>NC</td>\n",
       "    </tr>\n",
       "    <tr>\n",
       "      <th>92305</th>\n",
       "      <td>848276</td>\n",
       "      <td>2023-08-30 04:00:00+00:00</td>\n",
       "      <td>106  COUNTRY CLUB DR</td>\n",
       "      <td>2023021.0</td>\n",
       "      <td>B</td>\n",
       "      <td>M</td>\n",
       "      <td>TRESPASS (SECOND DEGREE)</td>\n",
       "      <td>1512</td>\n",
       "      <td>FAYETTEVILLE</td>\n",
       "      <td>NC</td>\n",
       "    </tr>\n",
       "  </tbody>\n",
       "</table>\n",
       "</div>"
      ],
      "text/plain": [
       "       OBJECTID                  date_arr               ArrestedAtAddr   \n",
       "1126       1127 2010-05-06 04:00:00+00:00                   CLINTON RD  \\\n",
       "6273       6274 2012-12-19 05:00:00+00:00  6415  INDEPENDENCE PLACE DR   \n",
       "66066     66067 2018-05-01 04:00:00+00:00                410  WORTH ST   \n",
       "79818    473172 2021-01-13 05:00:00+00:00          6901  TWIN CREEK CT   \n",
       "80226    485744 2021-02-15 05:00:00+00:00            708  MAYFLOWER CT   \n",
       "84198    603785 2022-01-31 05:00:00+00:00           6900  CLIFFDALE RD   \n",
       "85180    632033 2022-04-15 04:00:00+00:00           3627  CANBY OAK LN   \n",
       "85678    647123 2022-05-21 04:00:00+00:00               1408  SKIBO RD   \n",
       "92305    848276 2023-08-30 04:00:00+00:00         106  COUNTRY CLUB DR   \n",
       "\n",
       "          case_id ar_race ar_sex   \n",
       "1126       2010.0       I      M  \\\n",
       "6273    2192012.0       B      M   \n",
       "66066  18011772.0       W      M   \n",
       "79818      2021.0       B      M   \n",
       "80226      2021.0       B      M   \n",
       "84198         0.0       W      F   \n",
       "85180  24983376.0       B      M   \n",
       "85678  33052424.0       B      M   \n",
       "92305   2023021.0       B      M   \n",
       "\n",
       "                                                  charge  time_arr   \n",
       "1126                                             LARCENY      2212  \\\n",
       "6273                 BREAKING AND ENTERING - BUILDING, M       120   \n",
       "66066                               FAILURE TO APPEAR, M       657   \n",
       "79818                           WARRANT/ORDER FOR ARREST      2116   \n",
       "80226                           WARRANT/ORDER FOR ARREST      2335   \n",
       "84198      DRUGS- EQUIPMENT/PARAPHERNALIA - POSSESSING/C      1637   \n",
       "85180                                     FAIL TO APPEAR       436   \n",
       "85678  VANDALISM-TO REAL PROPERTY WILLFUL AND WANTON ...       125   \n",
       "92305                           TRESPASS (SECOND DEGREE)      1512   \n",
       "\n",
       "               city state  \n",
       "1126   FAYETTEVILLE    NC  \n",
       "6273   FAYETTEVILLE    NC  \n",
       "66066  FAYETTEVILLE    NC  \n",
       "79818  FAYETTEVILLE    NC  \n",
       "80226  FAYETTEVILLE    NC  \n",
       "84198  FAYETTEVILLE    NC  \n",
       "85180  FAYETTEVILLE    NC  \n",
       "85678  FAYETTEVILLE    NC  \n",
       "92305  FAYETTEVILLE    NC  "
      ]
     },
     "execution_count": 16,
     "metadata": {},
     "output_type": "execute_result"
    }
   ],
   "source": [
    "less_than_9 = [] # for catching lengths of specifc ids\n",
    "less_than_9_case_ids = [] # for catching specfic ids\n",
    "\n",
    "for i in cleaned_case_id:\n",
    "    if len(str(i)) < 9:\n",
    "        less_than_9.append(len(str(i)))\n",
    "        less_than_9_case_ids.append(i)\n",
    "\n",
    "print(Ct(less_than_9))\n",
    "\n",
    "#further investigating these short case_ids\n",
    "data.query('case_id in @less_than_9_case_ids')"
   ]
  },
  {
   "cell_type": "code",
   "execution_count": 17,
   "id": "072ff168-db0e-4571-b402-3ac5ca92ef03",
   "metadata": {
    "jupyter": {
     "source_hidden": true
    }
   },
   "outputs": [
    {
     "name": "stdout",
     "output_type": "stream",
     "text": [
      "['B' 'W' 'I' 'A' 'U' 'H' 'O' 'P']\n"
     ]
    }
   ],
   "source": [
    "# Checking Race data for inconsistencies\n",
    "race_unique = data['ar_race'].unique()\n",
    "race_unique\n",
    "\n",
    "# Inconsistencies found need to fix the values with extra spaces\n",
    "data['ar_race'] = [i.strip() for i in data['ar_race']]\n",
    "print(data['ar_race'][data['ar_race'] != 'Missing'].unique()) #Rechecking to see if the values are corrected"
   ]
  },
  {
   "cell_type": "code",
   "execution_count": 18,
   "id": "608868f0-30c3-4a56-a626-0a13caf56d82",
   "metadata": {
    "jupyter": {
     "source_hidden": true
    }
   },
   "outputs": [
    {
     "name": "stdout",
     "output_type": "stream",
     "text": [
      "['F' 'M' 'U']\n"
     ]
    }
   ],
   "source": [
    "# Checking Gender data for inconsistencies\n",
    "print(data['ar_sex'][data['ar_sex'] != 'Missing'].unique())\n",
    "# This data is consistent"
   ]
  },
  {
   "cell_type": "code",
   "execution_count": 19,
   "id": "9348b2a0-653e-4249-a35d-ad597579434a",
   "metadata": {
    "jupyter": {
     "source_hidden": true
    }
   },
   "outputs": [],
   "source": [
    "# Checking the 'charge' column\n",
    "\n",
    "unique_crimes = data['charge'].unique()\n",
    "\n",
    "for i in unique_crimes:\n",
    "    i # Add print() to print values, \n",
    "\n",
    "# It's hard to tell if any string has extra whitespaces the data also has multiple same valus with different looking \n",
    "data['charge'] = [i.strip() for i in data['charge']]"
   ]
  },
  {
   "cell_type": "code",
   "execution_count": 20,
   "id": "ea804cf2-1e4b-49e1-9588-33e1cfc971f8",
   "metadata": {
    "jupyter": {
     "source_hidden": true
    }
   },
   "outputs": [
    {
     "name": "stdout",
     "output_type": "stream",
     "text": [
      "The amount of compromised Times is: 0\n"
     ]
    }
   ],
   "source": [
    "#Checking the 'time_arr' column\n",
    "\n",
    "unique_time = data['time_arr'].unique()\n",
    "\n",
    "min_time = min(data['time_arr'])\n",
    "max_time = max(data['time_arr'])\n",
    "\n",
    "timeArrCheck = [0 if i >= min_time and i <= max_time else 1 for i in data['time_arr']]\n",
    "\n",
    "# if any values outside of that range exist, this sum should be greater than 1\n",
    "\n",
    "print(f'The amount of compromised Times is: {sum(dateArrCheck)}')"
   ]
  },
  {
   "cell_type": "code",
   "execution_count": 21,
   "id": "9293c000-7902-476d-bf78-73499cbb8b9c",
   "metadata": {
    "jupyter": {
     "source_hidden": true
    }
   },
   "outputs": [
    {
     "name": "stdout",
     "output_type": "stream",
     "text": [
      "FAYETTEVILLE\n",
      "Missing\n",
      "LAURINBURG\n",
      "LUMBER BRIDGE\n",
      "FAYFETTEVILLE\n",
      "FAY\n",
      "SPRING LAKE\n",
      "LUMBERTON\n",
      "WOODLAND\n",
      "FAYETTEVILLD\n",
      "FAYETEVILLE\n",
      "CLAYTON\n",
      "RAEFORD\n",
      "FAYETTEVILLE, NC\n",
      "FAYETTEVILEL\n",
      "FORT BRAGG\n",
      "BLADEN COUNTY\n",
      "PARKTON\n",
      "COUNTY\n",
      "RUTHERFORDTON\n",
      "SANFORD\n",
      "FAYETTEVILL\n",
      "DUNN\n",
      "FAYETTEVILE\n",
      "HOPE MILLS\n",
      "ST PAULS\n",
      "EASTOVER\n",
      "FAYTTEVILLE\n",
      "DILLON\n",
      "HM\n",
      "HOKE\n",
      "HOPE\n",
      "ELIZABETHTOWN\n",
      "WADESBORO\n",
      "FT BRAGG\n",
      "POPE AFB\n",
      "OXFORD\n",
      "FT. BRAGG\n",
      "WOMACK\n",
      "LILLINGTON\n",
      "RED SPRINGS\n",
      "GOLDSBORO\n",
      "CHARLOTTE\n",
      "CHAPEL HILL\n",
      "CLINTON\n",
      "RALEIGH\n",
      "NEW HANOVER\n",
      "FAYETTEVILLE        \n",
      "MOORISVILLE, NC\n",
      "MAXTON\n",
      "ROSEBORO\n",
      "ABERDEEN\n",
      "SALEMBURG\n",
      "CASTLE HAYNE\n",
      "WILMINGTON\n",
      "WHITAKERS\n",
      "FAY 28301\n",
      "FAY 28304\n",
      "FAY 28314\n",
      "FAY 28311\n",
      "FAY 28303\n",
      "FAY 28305\n",
      "AUTRYVILLE\n",
      "LINDEN\n",
      "CNT\n",
      "FAY 28306\n",
      "HOPEMILLS\n",
      "STEDMAN\n",
      "WAGRAM\n",
      "CONWAY\n",
      "GREENSBORO NC\n",
      "SHANNON NC\n",
      "GODWIN\n",
      "FAY 28312\n",
      "TRENTON\n",
      "FAYETTWEVILLE\n",
      "WADE\n",
      "BALTIMORE\n",
      "NEWTON GROVE\n",
      "FAYETTEVILLE`\n",
      "ERWIN\n",
      "PINEHURST\n",
      "SPRINGLAKE\n",
      "SAINT PAULS\n",
      "BENSON\n",
      "HARRELS\n",
      "ROWLAND\n",
      "FAAYETTEVILLE\n",
      "GREENSBORO\n",
      "FAIRMONT\n",
      "MAGNOLIA\n",
      "WINSTON SALEM\n",
      "LAUREL HILLS\n",
      "GARNER, NC\n",
      "WILSON\n",
      "PINEBLUFF\n",
      "DUBLIN\n",
      "BUNNLEVEL\n",
      "ROCKINGHAM\n",
      "TEACHEY\n",
      "CAMERON\n",
      "CARTHAGE\n",
      "COLUMBIA\n",
      "LOS ANGELES\n",
      "SAVANNAH\n",
      "AUGUSTA\n",
      "WHITE OAK\n",
      "LUMBERBRIDGE\n",
      "RIEGELWOOD\n",
      "FAYETTEVILLE NC\n",
      "AIKEN\n",
      "SHANNON\n",
      "LAUERL HILL\n",
      "MOUNT OLIVE\n",
      "TARHEEL\n",
      "FORT  LIBERTY\n",
      "FORT LIBERTY\n",
      "TURKEY\n",
      "FAYETTEVLLE\n",
      "BROADWAY\n"
     ]
    }
   ],
   "source": [
    "# City data check\n",
    "unique_city = data['city'].unique()\n",
    "unique_city\n",
    "\n",
    "#Understanding the patterns\n",
    "for word in list(unique_city):\n",
    "    print(word)"
   ]
  },
  {
   "cell_type": "code",
   "execution_count": 22,
   "id": "526a4db8-38af-4deb-97a2-5e6d4348bb09",
   "metadata": {
    "jupyter": {
     "source_hidden": true
    }
   },
   "outputs": [
    {
     "name": "stdout",
     "output_type": "stream",
     "text": [
      "['FAYETTEVILLE']\n"
     ]
    }
   ],
   "source": [
    "# Most values have same starting structure, that is 'FAY' but there is 'FAAY' as well which needs fixing\n",
    "\n",
    "cleaned_fay = ['FAYETTEVILLE' if word.find('FAY') == 0 or word.find('FAAY') == 0 else word for word in list(data['city'])]\n",
    "\n",
    "data['city'] = cleaned_fay\n",
    "\n",
    "print(data['city'][data['city'] == 'FAYETTEVILLE'].unique()) # test to Checking if there are anymore wrong names for FAYETTEVILLE"
   ]
  },
  {
   "cell_type": "code",
   "execution_count": 23,
   "id": "77114302-27c0-45d6-aa03-dd542a4a92a6",
   "metadata": {
    "jupyter": {
     "source_hidden": true
    }
   },
   "outputs": [
    {
     "data": {
      "text/plain": [
       "array(['NC', 'Missing', 'SC', 'AR'], dtype=object)"
      ]
     },
     "execution_count": 23,
     "metadata": {},
     "output_type": "execute_result"
    }
   ],
   "source": [
    "# state data\n",
    "\n",
    "unique_states = data['state'].unique()\n",
    "unique_states\n",
    "\n",
    "# No inconsistencies found in states data"
   ]
  },
  {
   "cell_type": "markdown",
   "id": "43ccd214-2967-4a43-93be-af2ac6b11e74",
   "metadata": {},
   "source": [
    "## Data Manipulation"
   ]
  },
  {
   "cell_type": "code",
   "execution_count": 24,
   "id": "15d97e2d-bd70-4c1f-8f7b-839cf45db9d0",
   "metadata": {
    "jupyter": {
     "source_hidden": true
    }
   },
   "outputs": [],
   "source": [
    "# Making New columns Year, Month Num (Month Number) and Month Name\n",
    "\n",
    "data['year'] = data['date_arr'].dt.year\n",
    "\n",
    "data['month_num'] = data['date_arr'].dt.month\n",
    "\n",
    "data['month_name'] = data['month_num'].apply(lambda x: calendar.month_name[x])"
   ]
  },
  {
   "cell_type": "code",
   "execution_count": 25,
   "id": "050a92d7-1569-4e94-93f8-b36ed8782dac",
   "metadata": {
    "jupyter": {
     "source_hidden": true
    }
   },
   "outputs": [
    {
     "data": {
      "text/html": [
       "<div>\n",
       "<style scoped>\n",
       "    .dataframe tbody tr th:only-of-type {\n",
       "        vertical-align: middle;\n",
       "    }\n",
       "\n",
       "    .dataframe tbody tr th {\n",
       "        vertical-align: top;\n",
       "    }\n",
       "\n",
       "    .dataframe thead th {\n",
       "        text-align: right;\n",
       "    }\n",
       "</style>\n",
       "<table border=\"1\" class=\"dataframe\">\n",
       "  <thead>\n",
       "    <tr style=\"text-align: right;\">\n",
       "      <th></th>\n",
       "      <th>OBJECTID</th>\n",
       "      <th>date_arr</th>\n",
       "      <th>ArrestedAtAddr</th>\n",
       "      <th>case_id</th>\n",
       "      <th>ar_race</th>\n",
       "      <th>ar_sex</th>\n",
       "      <th>charge</th>\n",
       "      <th>time_arr</th>\n",
       "      <th>city</th>\n",
       "      <th>state</th>\n",
       "      <th>year</th>\n",
       "      <th>month_num</th>\n",
       "      <th>month_name</th>\n",
       "    </tr>\n",
       "  </thead>\n",
       "  <tbody>\n",
       "    <tr>\n",
       "      <th>0</th>\n",
       "      <td>1</td>\n",
       "      <td>2010-01-21 05:00:00+00:00</td>\n",
       "      <td>117  DRAKE STREET</td>\n",
       "      <td>2010002385.0</td>\n",
       "      <td>Missing</td>\n",
       "      <td>Missing</td>\n",
       "      <td>AUTO THEFT</td>\n",
       "      <td>1701</td>\n",
       "      <td>FAYETTEVILLE</td>\n",
       "      <td>NC</td>\n",
       "      <td>2010</td>\n",
       "      <td>1</td>\n",
       "      <td>January</td>\n",
       "    </tr>\n",
       "    <tr>\n",
       "      <th>1</th>\n",
       "      <td>2</td>\n",
       "      <td>2010-01-21 05:00:00+00:00</td>\n",
       "      <td>467  HAY STREET</td>\n",
       "      <td>2009041799.0</td>\n",
       "      <td>Missing</td>\n",
       "      <td>Missing</td>\n",
       "      <td>BREAKING OR ENTERING BUILDINGS GENERALLY</td>\n",
       "      <td>1040</td>\n",
       "      <td>FAYETTEVILLE</td>\n",
       "      <td>NC</td>\n",
       "      <td>2010</td>\n",
       "      <td>1</td>\n",
       "      <td>January</td>\n",
       "    </tr>\n",
       "    <tr>\n",
       "      <th>3</th>\n",
       "      <td>4</td>\n",
       "      <td>2010-09-18 04:00:00+00:00</td>\n",
       "      <td>BONNIE ST</td>\n",
       "      <td>2010031638.0</td>\n",
       "      <td>B</td>\n",
       "      <td>M</td>\n",
       "      <td>CONTEMPT OF COURT / VIOLATING ORDERS OF COURT, M</td>\n",
       "      <td>1830</td>\n",
       "      <td>FAYETTEVILLE</td>\n",
       "      <td>NC</td>\n",
       "      <td>2010</td>\n",
       "      <td>9</td>\n",
       "      <td>September</td>\n",
       "    </tr>\n",
       "    <tr>\n",
       "      <th>4</th>\n",
       "      <td>5</td>\n",
       "      <td>2010-07-30 18:58:00+00:00</td>\n",
       "      <td>429  GILLESPIE ST</td>\n",
       "      <td>2010025041.0</td>\n",
       "      <td>B</td>\n",
       "      <td>M</td>\n",
       "      <td>ASSAULT INFLICTING SERIOUS INJURY, M</td>\n",
       "      <td>1458</td>\n",
       "      <td>FAYETTEVILLE</td>\n",
       "      <td>NC</td>\n",
       "      <td>2010</td>\n",
       "      <td>7</td>\n",
       "      <td>July</td>\n",
       "    </tr>\n",
       "    <tr>\n",
       "      <th>5</th>\n",
       "      <td>6</td>\n",
       "      <td>2010-01-20 05:00:00+00:00</td>\n",
       "      <td>412  RUSSELL STREET</td>\n",
       "      <td>2009042883.0</td>\n",
       "      <td>B</td>\n",
       "      <td>M</td>\n",
       "      <td>OBTAIN MONEY FALSELY REPRESENTING PHYSICAL DEFECT</td>\n",
       "      <td>1533</td>\n",
       "      <td>FAYETTEVILLE</td>\n",
       "      <td>NC</td>\n",
       "      <td>2010</td>\n",
       "      <td>1</td>\n",
       "      <td>January</td>\n",
       "    </tr>\n",
       "  </tbody>\n",
       "</table>\n",
       "</div>"
      ],
      "text/plain": [
       "   OBJECTID                  date_arr       ArrestedAtAddr       case_id   \n",
       "0         1 2010-01-21 05:00:00+00:00    117  DRAKE STREET  2010002385.0  \\\n",
       "1         2 2010-01-21 05:00:00+00:00      467  HAY STREET  2009041799.0   \n",
       "3         4 2010-09-18 04:00:00+00:00            BONNIE ST  2010031638.0   \n",
       "4         5 2010-07-30 18:58:00+00:00    429  GILLESPIE ST  2010025041.0   \n",
       "5         6 2010-01-20 05:00:00+00:00  412  RUSSELL STREET  2009042883.0   \n",
       "\n",
       "   ar_race   ar_sex                                             charge   \n",
       "0  Missing  Missing                                         AUTO THEFT  \\\n",
       "1  Missing  Missing           BREAKING OR ENTERING BUILDINGS GENERALLY   \n",
       "3        B        M   CONTEMPT OF COURT / VIOLATING ORDERS OF COURT, M   \n",
       "4        B        M               ASSAULT INFLICTING SERIOUS INJURY, M   \n",
       "5        B        M  OBTAIN MONEY FALSELY REPRESENTING PHYSICAL DEFECT   \n",
       "\n",
       "   time_arr          city state  year  month_num month_name  \n",
       "0      1701  FAYETTEVILLE    NC  2010          1    January  \n",
       "1      1040  FAYETTEVILLE    NC  2010          1    January  \n",
       "3      1830  FAYETTEVILLE    NC  2010          9  September  \n",
       "4      1458  FAYETTEVILLE    NC  2010          7       July  \n",
       "5      1533  FAYETTEVILLE    NC  2010          1    January  "
      ]
     },
     "execution_count": 25,
     "metadata": {},
     "output_type": "execute_result"
    }
   ],
   "source": [
    "# Getting Data for FAYETTEVILLE only, because that's my focus of study\n",
    "\n",
    "ville_Data = data.query('city == \"FAYETTEVILLE\" & state == \"NC\"')\n",
    "ville_Data.head()"
   ]
  },
  {
   "cell_type": "code",
   "execution_count": 26,
   "id": "76fa017d-8dbd-4d32-a947-656ebc32f524",
   "metadata": {
    "jupyter": {
     "source_hidden": true
    }
   },
   "outputs": [
    {
     "name": "stdout",
     "output_type": "stream",
     "text": [
      "['NC']\n"
     ]
    }
   ],
   "source": [
    "\n",
    "# State should be NC because FAYETTEVILLE is in North Carolina\n",
    "print(ville_Data['state'].unique())"
   ]
  },
  {
   "cell_type": "code",
   "execution_count": 27,
   "id": "11ae271b-f170-45d6-a355-0cdedc5208b7",
   "metadata": {
    "jupyter": {
     "source_hidden": true
    }
   },
   "outputs": [],
   "source": [
    "# Selecting data from 2009 onwards for analysis, as the data before is very less\n",
    "ville_Data = ville_Data.query('year > 2009')"
   ]
  },
  {
   "cell_type": "markdown",
   "id": "34994701-c7d5-49c5-a2df-031cf7a9a07f",
   "metadata": {},
   "source": [
    "###### I didn't change some columns to Integer because I won't use them for EDA. For example: case_id"
   ]
  },
  {
   "cell_type": "markdown",
   "id": "018761dc-0496-4cb7-9c2c-6c68c36a51f0",
   "metadata": {},
   "source": [
    "--------------------------------------------------------------------"
   ]
  },
  {
   "cell_type": "markdown",
   "id": "cb107aee-cb04-4a26-a131-cdcbaad584c4",
   "metadata": {},
   "source": [
    "# Data Analysis"
   ]
  },
  {
   "cell_type": "code",
   "execution_count": 28,
   "id": "d0557d67-0dd0-4d2c-8978-6ef7f627b6e2",
   "metadata": {
    "jupyter": {
     "source_hidden": true
    }
   },
   "outputs": [
    {
     "data": {
      "text/html": [
       "<div>\n",
       "<style scoped>\n",
       "    .dataframe tbody tr th:only-of-type {\n",
       "        vertical-align: middle;\n",
       "    }\n",
       "\n",
       "    .dataframe tbody tr th {\n",
       "        vertical-align: top;\n",
       "    }\n",
       "\n",
       "    .dataframe thead th {\n",
       "        text-align: right;\n",
       "    }\n",
       "</style>\n",
       "<table border=\"1\" class=\"dataframe\">\n",
       "  <thead>\n",
       "    <tr style=\"text-align: right;\">\n",
       "      <th></th>\n",
       "      <th>OBJECTID</th>\n",
       "      <th>date_arr</th>\n",
       "      <th>ArrestedAtAddr</th>\n",
       "      <th>case_id</th>\n",
       "      <th>ar_race</th>\n",
       "      <th>ar_sex</th>\n",
       "      <th>charge</th>\n",
       "      <th>time_arr</th>\n",
       "      <th>city</th>\n",
       "      <th>state</th>\n",
       "      <th>year</th>\n",
       "      <th>month_num</th>\n",
       "      <th>month_name</th>\n",
       "    </tr>\n",
       "  </thead>\n",
       "  <tbody>\n",
       "    <tr>\n",
       "      <th>0</th>\n",
       "      <td>1</td>\n",
       "      <td>2010-01-21 05:00:00+00:00</td>\n",
       "      <td>117  DRAKE STREET</td>\n",
       "      <td>2010002385.0</td>\n",
       "      <td>Missing</td>\n",
       "      <td>Missing</td>\n",
       "      <td>AUTO THEFT</td>\n",
       "      <td>1701</td>\n",
       "      <td>FAYETTEVILLE</td>\n",
       "      <td>NC</td>\n",
       "      <td>2010</td>\n",
       "      <td>1</td>\n",
       "      <td>January</td>\n",
       "    </tr>\n",
       "    <tr>\n",
       "      <th>1</th>\n",
       "      <td>2</td>\n",
       "      <td>2010-01-21 05:00:00+00:00</td>\n",
       "      <td>467  HAY STREET</td>\n",
       "      <td>2009041799.0</td>\n",
       "      <td>Missing</td>\n",
       "      <td>Missing</td>\n",
       "      <td>BREAKING OR ENTERING BUILDINGS GENERALLY</td>\n",
       "      <td>1040</td>\n",
       "      <td>FAYETTEVILLE</td>\n",
       "      <td>NC</td>\n",
       "      <td>2010</td>\n",
       "      <td>1</td>\n",
       "      <td>January</td>\n",
       "    </tr>\n",
       "    <tr>\n",
       "      <th>3</th>\n",
       "      <td>4</td>\n",
       "      <td>2010-09-18 04:00:00+00:00</td>\n",
       "      <td>BONNIE ST</td>\n",
       "      <td>2010031638.0</td>\n",
       "      <td>B</td>\n",
       "      <td>M</td>\n",
       "      <td>CONTEMPT OF COURT / VIOLATING ORDERS OF COURT, M</td>\n",
       "      <td>1830</td>\n",
       "      <td>FAYETTEVILLE</td>\n",
       "      <td>NC</td>\n",
       "      <td>2010</td>\n",
       "      <td>9</td>\n",
       "      <td>September</td>\n",
       "    </tr>\n",
       "    <tr>\n",
       "      <th>4</th>\n",
       "      <td>5</td>\n",
       "      <td>2010-07-30 18:58:00+00:00</td>\n",
       "      <td>429  GILLESPIE ST</td>\n",
       "      <td>2010025041.0</td>\n",
       "      <td>B</td>\n",
       "      <td>M</td>\n",
       "      <td>ASSAULT INFLICTING SERIOUS INJURY, M</td>\n",
       "      <td>1458</td>\n",
       "      <td>FAYETTEVILLE</td>\n",
       "      <td>NC</td>\n",
       "      <td>2010</td>\n",
       "      <td>7</td>\n",
       "      <td>July</td>\n",
       "    </tr>\n",
       "    <tr>\n",
       "      <th>5</th>\n",
       "      <td>6</td>\n",
       "      <td>2010-01-20 05:00:00+00:00</td>\n",
       "      <td>412  RUSSELL STREET</td>\n",
       "      <td>2009042883.0</td>\n",
       "      <td>B</td>\n",
       "      <td>M</td>\n",
       "      <td>OBTAIN MONEY FALSELY REPRESENTING PHYSICAL DEFECT</td>\n",
       "      <td>1533</td>\n",
       "      <td>FAYETTEVILLE</td>\n",
       "      <td>NC</td>\n",
       "      <td>2010</td>\n",
       "      <td>1</td>\n",
       "      <td>January</td>\n",
       "    </tr>\n",
       "  </tbody>\n",
       "</table>\n",
       "</div>"
      ],
      "text/plain": [
       "   OBJECTID                  date_arr       ArrestedAtAddr       case_id   \n",
       "0         1 2010-01-21 05:00:00+00:00    117  DRAKE STREET  2010002385.0  \\\n",
       "1         2 2010-01-21 05:00:00+00:00      467  HAY STREET  2009041799.0   \n",
       "3         4 2010-09-18 04:00:00+00:00            BONNIE ST  2010031638.0   \n",
       "4         5 2010-07-30 18:58:00+00:00    429  GILLESPIE ST  2010025041.0   \n",
       "5         6 2010-01-20 05:00:00+00:00  412  RUSSELL STREET  2009042883.0   \n",
       "\n",
       "   ar_race   ar_sex                                             charge   \n",
       "0  Missing  Missing                                         AUTO THEFT  \\\n",
       "1  Missing  Missing           BREAKING OR ENTERING BUILDINGS GENERALLY   \n",
       "3        B        M   CONTEMPT OF COURT / VIOLATING ORDERS OF COURT, M   \n",
       "4        B        M               ASSAULT INFLICTING SERIOUS INJURY, M   \n",
       "5        B        M  OBTAIN MONEY FALSELY REPRESENTING PHYSICAL DEFECT   \n",
       "\n",
       "   time_arr          city state  year  month_num month_name  \n",
       "0      1701  FAYETTEVILLE    NC  2010          1    January  \n",
       "1      1040  FAYETTEVILLE    NC  2010          1    January  \n",
       "3      1830  FAYETTEVILLE    NC  2010          9  September  \n",
       "4      1458  FAYETTEVILLE    NC  2010          7       July  \n",
       "5      1533  FAYETTEVILLE    NC  2010          1    January  "
      ]
     },
     "execution_count": 28,
     "metadata": {},
     "output_type": "execute_result"
    }
   ],
   "source": [
    "# Ville_Data Dataset\n",
    "ville_Data.head()"
   ]
  },
  {
   "cell_type": "code",
   "execution_count": 29,
   "id": "c785ff27-8f36-41ca-ac82-67e9e5e4bb40",
   "metadata": {
    "jupyter": {
     "source_hidden": true
    }
   },
   "outputs": [],
   "source": [
    "# Grouping ville_Data by years\n",
    "\n",
    "yearly_data = ville_Data.groupby('year')['OBJECTID'].count().reset_index().rename(columns = {'OBJECTID':'count'})\n",
    "yearly_data['year'] = yearly_data['year'].apply(str)"
   ]
  },
  {
   "cell_type": "code",
   "execution_count": 30,
   "id": "dccc4898-df9e-4f33-94c0-450b58dae397",
   "metadata": {
    "jupyter": {
     "source_hidden": true
    }
   },
   "outputs": [
    {
     "data": {
      "text/html": [
       "<div>\n",
       "<style scoped>\n",
       "    .dataframe tbody tr th:only-of-type {\n",
       "        vertical-align: middle;\n",
       "    }\n",
       "\n",
       "    .dataframe tbody tr th {\n",
       "        vertical-align: top;\n",
       "    }\n",
       "\n",
       "    .dataframe thead th {\n",
       "        text-align: right;\n",
       "    }\n",
       "</style>\n",
       "<table border=\"1\" class=\"dataframe\">\n",
       "  <thead>\n",
       "    <tr style=\"text-align: right;\">\n",
       "      <th></th>\n",
       "      <th>month_name</th>\n",
       "      <th>month_num</th>\n",
       "      <th>mean</th>\n",
       "    </tr>\n",
       "  </thead>\n",
       "  <tbody>\n",
       "    <tr>\n",
       "      <th>4</th>\n",
       "      <td>January</td>\n",
       "      <td>1</td>\n",
       "      <td>557.714286</td>\n",
       "    </tr>\n",
       "    <tr>\n",
       "      <th>3</th>\n",
       "      <td>February</td>\n",
       "      <td>2</td>\n",
       "      <td>547.285714</td>\n",
       "    </tr>\n",
       "    <tr>\n",
       "      <th>7</th>\n",
       "      <td>March</td>\n",
       "      <td>3</td>\n",
       "      <td>581.071429</td>\n",
       "    </tr>\n",
       "    <tr>\n",
       "      <th>0</th>\n",
       "      <td>April</td>\n",
       "      <td>4</td>\n",
       "      <td>560.928571</td>\n",
       "    </tr>\n",
       "    <tr>\n",
       "      <th>8</th>\n",
       "      <td>May</td>\n",
       "      <td>5</td>\n",
       "      <td>569.785714</td>\n",
       "    </tr>\n",
       "    <tr>\n",
       "      <th>6</th>\n",
       "      <td>June</td>\n",
       "      <td>6</td>\n",
       "      <td>545.928571</td>\n",
       "    </tr>\n",
       "    <tr>\n",
       "      <th>5</th>\n",
       "      <td>July</td>\n",
       "      <td>7</td>\n",
       "      <td>575.928571</td>\n",
       "    </tr>\n",
       "    <tr>\n",
       "      <th>1</th>\n",
       "      <td>August</td>\n",
       "      <td>8</td>\n",
       "      <td>585.142857</td>\n",
       "    </tr>\n",
       "    <tr>\n",
       "      <th>11</th>\n",
       "      <td>September</td>\n",
       "      <td>9</td>\n",
       "      <td>556.071429</td>\n",
       "    </tr>\n",
       "    <tr>\n",
       "      <th>10</th>\n",
       "      <td>October</td>\n",
       "      <td>10</td>\n",
       "      <td>557.000000</td>\n",
       "    </tr>\n",
       "    <tr>\n",
       "      <th>9</th>\n",
       "      <td>November</td>\n",
       "      <td>11</td>\n",
       "      <td>515.846154</td>\n",
       "    </tr>\n",
       "    <tr>\n",
       "      <th>2</th>\n",
       "      <td>December</td>\n",
       "      <td>12</td>\n",
       "      <td>514.307692</td>\n",
       "    </tr>\n",
       "  </tbody>\n",
       "</table>\n",
       "</div>"
      ],
      "text/plain": [
       "   month_name  month_num        mean\n",
       "4     January          1  557.714286\n",
       "3    February          2  547.285714\n",
       "7       March          3  581.071429\n",
       "0       April          4  560.928571\n",
       "8         May          5  569.785714\n",
       "6        June          6  545.928571\n",
       "5        July          7  575.928571\n",
       "1      August          8  585.142857\n",
       "11  September          9  556.071429\n",
       "10    October         10  557.000000\n",
       "9    November         11  515.846154\n",
       "2    December         12  514.307692"
      ]
     },
     "execution_count": 30,
     "metadata": {},
     "output_type": "execute_result"
    }
   ],
   "source": [
    "# Grouping ville_Data by years and month to get monthly arrests data \n",
    "\n",
    "yearly_monthly_data = ville_Data.groupby(['year', 'month_num', 'month_name'])['OBJECTID']\\\n",
    "                    .count()\\\n",
    "                    .reset_index()\\\n",
    "                    .rename(columns = {'OBJECTID':'count'})\\\n",
    "                    .query('year > 2009')\n",
    "\n",
    "yearly_monthly_data['year'] = yearly_monthly_data['year'].apply(str)\n",
    "\n",
    "\n",
    "# Grouping ville_Data by months and averaging the counts to understand the overall monthly patterns for ALL TIME DATA\n",
    "\n",
    "monthly_mean_data = yearly_monthly_data.groupby(['month_name', 'month_num'])['count'].apply(np.mean).reset_index().sort_values('month_num', ascending = True)\n",
    "monthly_mean_data.rename(columns = {'count':'mean'}, inplace = True)\n",
    "\n",
    "monthly_mean_data"
   ]
  },
  {
   "cell_type": "code",
   "execution_count": 31,
   "id": "a845f203-d107-4bc9-a496-1efa41edcc96",
   "metadata": {
    "jupyter": {
     "source_hidden": true
    }
   },
   "outputs": [
    {
     "data": {
      "text/html": [
       "<div>\n",
       "<style scoped>\n",
       "    .dataframe tbody tr th:only-of-type {\n",
       "        vertical-align: middle;\n",
       "    }\n",
       "\n",
       "    .dataframe tbody tr th {\n",
       "        vertical-align: top;\n",
       "    }\n",
       "\n",
       "    .dataframe thead th {\n",
       "        text-align: right;\n",
       "    }\n",
       "</style>\n",
       "<table border=\"1\" class=\"dataframe\">\n",
       "  <thead>\n",
       "    <tr style=\"text-align: right;\">\n",
       "      <th></th>\n",
       "      <th>month_num</th>\n",
       "      <th>month_name</th>\n",
       "      <th>time_arr</th>\n",
       "    </tr>\n",
       "  </thead>\n",
       "  <tbody>\n",
       "    <tr>\n",
       "      <th>0</th>\n",
       "      <td>1</td>\n",
       "      <td>January</td>\n",
       "      <td>1701</td>\n",
       "    </tr>\n",
       "    <tr>\n",
       "      <th>20331</th>\n",
       "      <td>1</td>\n",
       "      <td>January</td>\n",
       "      <td>2211</td>\n",
       "    </tr>\n",
       "    <tr>\n",
       "      <th>20335</th>\n",
       "      <td>1</td>\n",
       "      <td>January</td>\n",
       "      <td>156</td>\n",
       "    </tr>\n",
       "    <tr>\n",
       "      <th>20341</th>\n",
       "      <td>1</td>\n",
       "      <td>January</td>\n",
       "      <td>1440</td>\n",
       "    </tr>\n",
       "    <tr>\n",
       "      <th>58486</th>\n",
       "      <td>1</td>\n",
       "      <td>January</td>\n",
       "      <td>558</td>\n",
       "    </tr>\n",
       "    <tr>\n",
       "      <th>...</th>\n",
       "      <td>...</td>\n",
       "      <td>...</td>\n",
       "      <td>...</td>\n",
       "    </tr>\n",
       "    <tr>\n",
       "      <th>46048</th>\n",
       "      <td>12</td>\n",
       "      <td>December</td>\n",
       "      <td>1922</td>\n",
       "    </tr>\n",
       "    <tr>\n",
       "      <th>46041</th>\n",
       "      <td>12</td>\n",
       "      <td>December</td>\n",
       "      <td>2256</td>\n",
       "    </tr>\n",
       "    <tr>\n",
       "      <th>46027</th>\n",
       "      <td>12</td>\n",
       "      <td>December</td>\n",
       "      <td>558</td>\n",
       "    </tr>\n",
       "    <tr>\n",
       "      <th>45175</th>\n",
       "      <td>12</td>\n",
       "      <td>December</td>\n",
       "      <td>2159</td>\n",
       "    </tr>\n",
       "    <tr>\n",
       "      <th>79582</th>\n",
       "      <td>12</td>\n",
       "      <td>December</td>\n",
       "      <td>636</td>\n",
       "    </tr>\n",
       "  </tbody>\n",
       "</table>\n",
       "<p>91751 rows × 3 columns</p>\n",
       "</div>"
      ],
      "text/plain": [
       "       month_num month_name  time_arr\n",
       "0              1    January      1701\n",
       "20331          1    January      2211\n",
       "20335          1    January       156\n",
       "20341          1    January      1440\n",
       "58486          1    January       558\n",
       "...          ...        ...       ...\n",
       "46048         12   December      1922\n",
       "46041         12   December      2256\n",
       "46027         12   December       558\n",
       "45175         12   December      2159\n",
       "79582         12   December       636\n",
       "\n",
       "[91751 rows x 3 columns]"
      ]
     },
     "execution_count": 31,
     "metadata": {},
     "output_type": "execute_result"
    }
   ],
   "source": [
    "# Month to Time Data\n",
    "\n",
    "month_time = ville_Data[['month_num', 'month_name', 'time_arr']].sort_values('month_num', ascending = True)\n",
    "month_time"
   ]
  },
  {
   "cell_type": "code",
   "execution_count": 32,
   "id": "2b6d0711-0e7f-4aae-9b15-0a2b904a12b5",
   "metadata": {
    "jupyter": {
     "source_hidden": true
    }
   },
   "outputs": [],
   "source": [
    "# Getting time_arr from ville_Data and adding a new column for AM and PM times\n",
    "\n",
    "overall_time_data = ville_Data['time_arr'].to_frame()\n",
    "overall_time_data['time_status'] = ['AM' if i < 1200 else 'PM'for i in ville_Data['time_arr']]"
   ]
  },
  {
   "cell_type": "code",
   "execution_count": 33,
   "id": "fc323316-1540-48b5-881b-4aa34e4487e8",
   "metadata": {
    "jupyter": {
     "source_hidden": true
    }
   },
   "outputs": [],
   "source": [
    "### Ville_Data Min and Max MM,YYYY for titles of Charts\n",
    "\n",
    "min_month_year = f\"{calendar.month_name[min(ville_Data['date_arr']).month]}, {min(ville_Data['date_arr']).year}\"\n",
    "max_month_year = f\"{calendar.month_name[max(ville_Data['date_arr']).month]}, {max(ville_Data['date_arr']).year}\"\n"
   ]
  },
  {
   "cell_type": "code",
   "execution_count": 34,
   "id": "cf9e5003-25b1-4d45-b6cc-057b8f412544",
   "metadata": {
    "jupyter": {
     "source_hidden": true
    }
   },
   "outputs": [],
   "source": [
    "# yearly mean arrests\n",
    "mean_yearly = round(np.mean(yearly_data['count']), 2)"
   ]
  },
  {
   "cell_type": "code",
   "execution_count": 35,
   "id": "b1e8b9df-0031-4803-8332-8c3c107b097f",
   "metadata": {
    "jupyter": {
     "source_hidden": true
    }
   },
   "outputs": [
    {
     "data": {
      "text/html": [
       "<div>\n",
       "<style scoped>\n",
       "    .dataframe tbody tr th:only-of-type {\n",
       "        vertical-align: middle;\n",
       "    }\n",
       "\n",
       "    .dataframe tbody tr th {\n",
       "        vertical-align: top;\n",
       "    }\n",
       "\n",
       "    .dataframe thead th {\n",
       "        text-align: right;\n",
       "    }\n",
       "</style>\n",
       "<table border=\"1\" class=\"dataframe\">\n",
       "  <thead>\n",
       "    <tr style=\"text-align: right;\">\n",
       "      <th></th>\n",
       "      <th>ar_sex</th>\n",
       "      <th>count</th>\n",
       "      <th>percentage</th>\n",
       "    </tr>\n",
       "  </thead>\n",
       "  <tbody>\n",
       "    <tr>\n",
       "      <th>1</th>\n",
       "      <td>M</td>\n",
       "      <td>65751</td>\n",
       "      <td>71.66</td>\n",
       "    </tr>\n",
       "    <tr>\n",
       "      <th>0</th>\n",
       "      <td>F</td>\n",
       "      <td>25488</td>\n",
       "      <td>27.78</td>\n",
       "    </tr>\n",
       "    <tr>\n",
       "      <th>3</th>\n",
       "      <td>U</td>\n",
       "      <td>466</td>\n",
       "      <td>0.51</td>\n",
       "    </tr>\n",
       "    <tr>\n",
       "      <th>2</th>\n",
       "      <td>Missing</td>\n",
       "      <td>46</td>\n",
       "      <td>0.05</td>\n",
       "    </tr>\n",
       "  </tbody>\n",
       "</table>\n",
       "</div>"
      ],
      "text/plain": [
       "    ar_sex  count  percentage\n",
       "1        M  65751       71.66\n",
       "0        F  25488       27.78\n",
       "3        U    466        0.51\n",
       "2  Missing     46        0.05"
      ]
     },
     "execution_count": 35,
     "metadata": {},
     "output_type": "execute_result"
    }
   ],
   "source": [
    "# Overall gender data grouped \n",
    "\n",
    "overall_gender_data = ville_Data.groupby('ar_sex')['OBJECTID']\\\n",
    "                        .count()\\\n",
    "                        .reset_index()\\\n",
    "                        .rename(columns = {'OBJECTID':'count'})\n",
    "\n",
    "overall_gender_data['percentage'] = [round(i / sum(overall_gender_data['count']) * 100, 2) for i in overall_gender_data['count']]\n",
    "\n",
    "overall_gender_data = overall_gender_data.sort_values('percentage', ascending = False)\n",
    "\n",
    "overall_gender_data"
   ]
  },
  {
   "cell_type": "code",
   "execution_count": 36,
   "id": "dc2a1229-63f7-4f44-80df-c46a09ce9da4",
   "metadata": {
    "jupyter": {
     "source_hidden": true
    }
   },
   "outputs": [
    {
     "data": {
      "text/html": [
       "<div>\n",
       "<style scoped>\n",
       "    .dataframe tbody tr th:only-of-type {\n",
       "        vertical-align: middle;\n",
       "    }\n",
       "\n",
       "    .dataframe tbody tr th {\n",
       "        vertical-align: top;\n",
       "    }\n",
       "\n",
       "    .dataframe thead th {\n",
       "        text-align: right;\n",
       "    }\n",
       "</style>\n",
       "<table border=\"1\" class=\"dataframe\">\n",
       "  <thead>\n",
       "    <tr style=\"text-align: right;\">\n",
       "      <th></th>\n",
       "      <th>ar_sex</th>\n",
       "      <th>ar_race</th>\n",
       "      <th>count</th>\n",
       "    </tr>\n",
       "  </thead>\n",
       "  <tbody>\n",
       "    <tr>\n",
       "      <th>9</th>\n",
       "      <td>M</td>\n",
       "      <td>B</td>\n",
       "      <td>46653</td>\n",
       "    </tr>\n",
       "    <tr>\n",
       "      <th>16</th>\n",
       "      <td>M</td>\n",
       "      <td>W</td>\n",
       "      <td>17285</td>\n",
       "    </tr>\n",
       "    <tr>\n",
       "      <th>1</th>\n",
       "      <td>F</td>\n",
       "      <td>B</td>\n",
       "      <td>15855</td>\n",
       "    </tr>\n",
       "    <tr>\n",
       "      <th>7</th>\n",
       "      <td>F</td>\n",
       "      <td>W</td>\n",
       "      <td>8752</td>\n",
       "    </tr>\n",
       "    <tr>\n",
       "      <th>11</th>\n",
       "      <td>M</td>\n",
       "      <td>I</td>\n",
       "      <td>1196</td>\n",
       "    </tr>\n",
       "    <tr>\n",
       "      <th>3</th>\n",
       "      <td>F</td>\n",
       "      <td>I</td>\n",
       "      <td>574</td>\n",
       "    </tr>\n",
       "    <tr>\n",
       "      <th>8</th>\n",
       "      <td>M</td>\n",
       "      <td>A</td>\n",
       "      <td>526</td>\n",
       "    </tr>\n",
       "    <tr>\n",
       "      <th>19</th>\n",
       "      <td>U</td>\n",
       "      <td>U</td>\n",
       "      <td>378</td>\n",
       "    </tr>\n",
       "    <tr>\n",
       "      <th>0</th>\n",
       "      <td>F</td>\n",
       "      <td>A</td>\n",
       "      <td>261</td>\n",
       "    </tr>\n",
       "    <tr>\n",
       "      <th>18</th>\n",
       "      <td>U</td>\n",
       "      <td>Missing</td>\n",
       "      <td>88</td>\n",
       "    </tr>\n",
       "    <tr>\n",
       "      <th>15</th>\n",
       "      <td>M</td>\n",
       "      <td>U</td>\n",
       "      <td>65</td>\n",
       "    </tr>\n",
       "    <tr>\n",
       "      <th>17</th>\n",
       "      <td>Missing</td>\n",
       "      <td>Missing</td>\n",
       "      <td>46</td>\n",
       "    </tr>\n",
       "    <tr>\n",
       "      <th>6</th>\n",
       "      <td>F</td>\n",
       "      <td>U</td>\n",
       "      <td>28</td>\n",
       "    </tr>\n",
       "    <tr>\n",
       "      <th>12</th>\n",
       "      <td>M</td>\n",
       "      <td>Missing</td>\n",
       "      <td>14</td>\n",
       "    </tr>\n",
       "    <tr>\n",
       "      <th>2</th>\n",
       "      <td>F</td>\n",
       "      <td>H</td>\n",
       "      <td>10</td>\n",
       "    </tr>\n",
       "    <tr>\n",
       "      <th>10</th>\n",
       "      <td>M</td>\n",
       "      <td>H</td>\n",
       "      <td>7</td>\n",
       "    </tr>\n",
       "    <tr>\n",
       "      <th>5</th>\n",
       "      <td>F</td>\n",
       "      <td>O</td>\n",
       "      <td>5</td>\n",
       "    </tr>\n",
       "    <tr>\n",
       "      <th>13</th>\n",
       "      <td>M</td>\n",
       "      <td>O</td>\n",
       "      <td>4</td>\n",
       "    </tr>\n",
       "    <tr>\n",
       "      <th>4</th>\n",
       "      <td>F</td>\n",
       "      <td>Missing</td>\n",
       "      <td>3</td>\n",
       "    </tr>\n",
       "    <tr>\n",
       "      <th>14</th>\n",
       "      <td>M</td>\n",
       "      <td>P</td>\n",
       "      <td>1</td>\n",
       "    </tr>\n",
       "  </tbody>\n",
       "</table>\n",
       "</div>"
      ],
      "text/plain": [
       "     ar_sex  ar_race  count\n",
       "9         M        B  46653\n",
       "16        M        W  17285\n",
       "1         F        B  15855\n",
       "7         F        W   8752\n",
       "11        M        I   1196\n",
       "3         F        I    574\n",
       "8         M        A    526\n",
       "19        U        U    378\n",
       "0         F        A    261\n",
       "18        U  Missing     88\n",
       "15        M        U     65\n",
       "17  Missing  Missing     46\n",
       "6         F        U     28\n",
       "12        M  Missing     14\n",
       "2         F        H     10\n",
       "10        M        H      7\n",
       "5         F        O      5\n",
       "13        M        O      4\n",
       "4         F  Missing      3\n",
       "14        M        P      1"
      ]
     },
     "execution_count": 36,
     "metadata": {},
     "output_type": "execute_result"
    }
   ],
   "source": [
    "# Overall race data grouped \n",
    "\n",
    "gender_race_data = ville_Data.groupby(['ar_sex', 'ar_race'])['OBJECTID'].count().reset_index().rename(columns = {'OBJECTID':'count'})\n",
    "\n",
    "gender_race_data = gender_race_data.sort_values('count', ascending = False)\n",
    "gender_race_data"
   ]
  },
  {
   "cell_type": "markdown",
   "id": "a7daa26d-60c0-4b35-99a9-a6bb5c0200b2",
   "metadata": {},
   "source": [
    "## Visuals"
   ]
  },
  {
   "cell_type": "code",
   "execution_count": 37,
   "id": "a534de65-dd14-4791-8caf-444ccddc7108",
   "metadata": {
    "jupyter": {
     "source_hidden": true
    }
   },
   "outputs": [],
   "source": [
    "# Title Function  for plots\n",
    "\n",
    "def chart_title_func(title, subtitle = False):\n",
    "    if subtitle == False:\n",
    "        return alt.Title(title, font = 'Century', \n",
    "                         fontSize = 18, \n",
    "                         orient = 'top', \n",
    "                         offset = 20)\n",
    "    else:\n",
    "        return alt.Title(title, font = 'Century', \n",
    "                         fontSize = 18, \n",
    "                         orient = 'top', \n",
    "                         offset = 20, \n",
    "                         subtitle = subtitle)"
   ]
  },
  {
   "cell_type": "code",
   "execution_count": 38,
   "id": "3721fe95-7505-43f9-8f29-74a7b10ad21f",
   "metadata": {
    "jupyter": {
     "source_hidden": true
    }
   },
   "outputs": [
    {
     "data": {
      "text/html": [
       "\n",
       "<style>\n",
       "  #altair-viz-71126e02854a46068f3e8049a703dfc2.vega-embed {\n",
       "    width: 100%;\n",
       "    display: flex;\n",
       "  }\n",
       "\n",
       "  #altair-viz-71126e02854a46068f3e8049a703dfc2.vega-embed details,\n",
       "  #altair-viz-71126e02854a46068f3e8049a703dfc2.vega-embed details summary {\n",
       "    position: relative;\n",
       "  }\n",
       "</style>\n",
       "<div id=\"altair-viz-71126e02854a46068f3e8049a703dfc2\"></div>\n",
       "<script type=\"text/javascript\">\n",
       "  var VEGA_DEBUG = (typeof VEGA_DEBUG == \"undefined\") ? {} : VEGA_DEBUG;\n",
       "  (function(spec, embedOpt){\n",
       "    let outputDiv = document.currentScript.previousElementSibling;\n",
       "    if (outputDiv.id !== \"altair-viz-71126e02854a46068f3e8049a703dfc2\") {\n",
       "      outputDiv = document.getElementById(\"altair-viz-71126e02854a46068f3e8049a703dfc2\");\n",
       "    }\n",
       "    const paths = {\n",
       "      \"vega\": \"https://cdn.jsdelivr.net/npm/vega@5?noext\",\n",
       "      \"vega-lib\": \"https://cdn.jsdelivr.net/npm/vega-lib?noext\",\n",
       "      \"vega-lite\": \"https://cdn.jsdelivr.net/npm/vega-lite@5.14.1?noext\",\n",
       "      \"vega-embed\": \"https://cdn.jsdelivr.net/npm/vega-embed@6?noext\",\n",
       "    };\n",
       "\n",
       "    function maybeLoadScript(lib, version) {\n",
       "      var key = `${lib.replace(\"-\", \"\")}_version`;\n",
       "      return (VEGA_DEBUG[key] == version) ?\n",
       "        Promise.resolve(paths[lib]) :\n",
       "        new Promise(function(resolve, reject) {\n",
       "          var s = document.createElement('script');\n",
       "          document.getElementsByTagName(\"head\")[0].appendChild(s);\n",
       "          s.async = true;\n",
       "          s.onload = () => {\n",
       "            VEGA_DEBUG[key] = version;\n",
       "            return resolve(paths[lib]);\n",
       "          };\n",
       "          s.onerror = () => reject(`Error loading script: ${paths[lib]}`);\n",
       "          s.src = paths[lib];\n",
       "        });\n",
       "    }\n",
       "\n",
       "    function showError(err) {\n",
       "      outputDiv.innerHTML = `<div class=\"error\" style=\"color:red;\">${err}</div>`;\n",
       "      throw err;\n",
       "    }\n",
       "\n",
       "    function displayChart(vegaEmbed) {\n",
       "      vegaEmbed(outputDiv, spec, embedOpt)\n",
       "        .catch(err => showError(`Javascript Error: ${err.message}<br>This usually means there's a typo in your chart specification. See the javascript console for the full traceback.`));\n",
       "    }\n",
       "\n",
       "    if(typeof define === \"function\" && define.amd) {\n",
       "      requirejs.config({paths});\n",
       "      require([\"vega-embed\"], displayChart, err => showError(`Error loading script: ${err.message}`));\n",
       "    } else {\n",
       "      maybeLoadScript(\"vega\", \"5\")\n",
       "        .then(() => maybeLoadScript(\"vega-lite\", \"5.14.1\"))\n",
       "        .then(() => maybeLoadScript(\"vega-embed\", \"6\"))\n",
       "        .catch(showError)\n",
       "        .then(() => displayChart(vegaEmbed));\n",
       "    }\n",
       "  })({\"$schema\": \"https://vega.github.io/schema/vega/v5.json\", \"data\": [{\"name\": \"source_0\", \"values\": [{\"count\": 8571, \"year\": \"2010\"}, {\"count\": 10269, \"year\": \"2011\"}, {\"count\": 8941, \"year\": \"2012\"}, {\"count\": 7131, \"year\": \"2013\"}, {\"count\": 7372, \"year\": \"2014\"}, {\"count\": 6594, \"year\": \"2015\"}, {\"count\": 7067, \"year\": \"2016\"}, {\"count\": 6582, \"year\": \"2017\"}, {\"count\": 6385, \"year\": \"2018\"}, {\"count\": 5571, \"year\": \"2019\"}, {\"count\": 4411, \"year\": \"2020\"}, {\"count\": 4082, \"year\": \"2021\"}, {\"count\": 4473, \"year\": \"2022\"}, {\"count\": 4302, \"year\": \"2023\"}]}, {\"name\": \"data_0\", \"values\": [{\"count\": 8571, \"year\": \"2010\"}, {\"count\": 10269, \"year\": \"2011\"}, {\"count\": 8941, \"year\": \"2012\"}, {\"count\": 7131, \"year\": \"2013\"}, {\"count\": 7372, \"year\": \"2014\"}, {\"count\": 6594, \"year\": \"2015\"}, {\"count\": 7067, \"year\": \"2016\"}, {\"count\": 6582, \"year\": \"2017\"}, {\"count\": 6385, \"year\": \"2018\"}, {\"count\": 5571, \"year\": \"2019\"}, {\"count\": 4411, \"year\": \"2020\"}, {\"count\": 4082, \"year\": \"2021\"}, {\"count\": 4473, \"year\": \"2022\"}, {\"count\": 4302, \"year\": \"2023\"}]}, {\"name\": \"source_0_x_domain_year_0\", \"values\": [{\"year\": \"2010\"}, {\"year\": \"2011\"}, {\"year\": \"2012\"}, {\"year\": \"2013\"}, {\"year\": \"2014\"}, {\"year\": \"2015\"}, {\"year\": \"2016\"}, {\"year\": \"2017\"}, {\"year\": \"2018\"}, {\"year\": \"2019\"}, {\"year\": \"2020\"}, {\"year\": \"2021\"}, {\"year\": \"2022\"}, {\"year\": \"2023\"}]}, {\"name\": \"data_0_x_domain_year_1\", \"values\": [{\"year\": \"2010\"}, {\"year\": \"2011\"}, {\"year\": \"2012\"}, {\"year\": \"2013\"}, {\"year\": \"2014\"}, {\"year\": \"2015\"}, {\"year\": \"2016\"}, {\"year\": \"2017\"}, {\"year\": \"2018\"}, {\"year\": \"2019\"}, {\"year\": \"2020\"}, {\"year\": \"2021\"}, {\"year\": \"2022\"}, {\"year\": \"2023\"}]}], \"marks\": [{\"type\": \"line\", \"name\": \"layer_0_marks\", \"from\": {\"data\": \"source_0\"}, \"sort\": {\"field\": \"datum[\\\"year\\\"]\"}, \"encode\": {\"update\": {\"defined\": {\"signal\": \"isValid(datum[\\\"count\\\"]) && isFinite(+datum[\\\"count\\\"])\"}, \"y\": {\"field\": \"count\", \"scale\": \"y\"}, \"stroke\": {\"value\": \"#ba3030\"}, \"description\": {\"signal\": \"\\\"year: \\\" + (isValid(datum[\\\"year\\\"]) ? datum[\\\"year\\\"] : \\\"\\\"+datum[\\\"year\\\"]) + \\\"; count: \\\" + (format(datum[\\\"count\\\"], \\\"\\\"))\"}, \"x\": {\"field\": \"year\", \"scale\": \"x\"}, \"tooltip\": {\"signal\": \"{\\\"count\\\": format(datum[\\\"count\\\"], \\\"\\\")}\"}}}, \"style\": [\"line\"]}, {\"type\": \"symbol\", \"name\": \"layer_1_marks\", \"from\": {\"data\": \"data_0\"}, \"encode\": {\"update\": {\"tooltip\": {\"signal\": \"{\\\"count\\\": format(datum[\\\"count\\\"], \\\"\\\")}\"}, \"opacity\": {\"value\": 1}, \"fill\": {\"value\": \"#4c78a8\"}, \"ariaRoleDescription\": {\"value\": \"point\"}, \"x\": {\"field\": \"year\", \"scale\": \"x\"}, \"description\": {\"signal\": \"\\\"year: \\\" + (isValid(datum[\\\"year\\\"]) ? datum[\\\"year\\\"] : \\\"\\\"+datum[\\\"year\\\"]) + \\\"; count: \\\" + (format(datum[\\\"count\\\"], \\\"\\\"))\"}, \"y\": {\"field\": \"count\", \"scale\": \"y\"}}}, \"style\": [\"point\"]}], \"scales\": [{\"name\": \"x\", \"type\": \"point\", \"domain\": {\"fields\": [{\"data\": \"source_0_x_domain_year_0\", \"field\": \"year\"}, {\"data\": \"data_0_x_domain_year_1\", \"field\": \"year\"}], \"sort\": true}, \"range\": [0, {\"signal\": \"width\"}], \"padding\": 0.5}, {\"name\": \"y\", \"type\": \"linear\", \"domain\": {\"fields\": [{\"data\": \"source_0\", \"field\": \"count\"}, {\"data\": \"data_0\", \"field\": \"count\"}]}, \"range\": [{\"signal\": \"height\"}, 0], \"nice\": true, \"zero\": true}], \"axes\": [{\"scale\": \"y\", \"tickCount\": {\"signal\": \"ceil(height/40)\"}, \"grid\": true, \"orient\": \"left\", \"domain\": false, \"labels\": false, \"maxExtent\": 0, \"minExtent\": 0, \"zindex\": 0, \"gridScale\": \"x\", \"aria\": false, \"ticks\": false}, {\"scale\": \"x\", \"labelBaseline\": \"top\", \"zindex\": 0, \"orient\": \"bottom\", \"grid\": false, \"title\": \"year\", \"labelAngle\": 0}, {\"scale\": \"y\", \"labelOverlap\": true, \"title\": \"count\", \"grid\": false, \"orient\": \"left\", \"zindex\": 0, \"tickCount\": {\"signal\": \"ceil(height/40)\"}}], \"title\": {\"text\": \"Count of Yearly Fayetteville Arrests\", \"offset\": 20, \"orient\": \"top\", \"subtitle\": [\"Overall Yearly Arrest average from January, 2010 to September, 2023 : 6553.64\"], \"frame\": \"group\", \"fontSize\": 18, \"font\": \"Century\"}, \"background\": \"white\", \"padding\": 5, \"height\": 300, \"width\": 900, \"style\": \"cell\"}, {\"mode\": \"vega\"});\n",
       "</script>"
      ],
      "text/plain": [
       "alt.Chart(...)"
      ]
     },
     "execution_count": 38,
     "metadata": {},
     "output_type": "execute_result"
    }
   ],
   "source": [
    "# Line Chart of yearly_data\n",
    "\n",
    "line = alt.Chart(\n",
    "    yearly_data, \n",
    "    title= chart_title_func('Count of Yearly Fayetteville Arrests', [f\"Overall Yearly Arrest average from {min_month_year} to {max_month_year} : {mean_yearly}\"]\n",
    "    ))\\\n",
    "    .mark_line(color = '#ba3030',point=True)\\\n",
    "    .encode(\n",
    "        x = alt.X('year', axis=alt.Axis(labelAngle=0)),\n",
    "        y = 'count',\n",
    "        tooltip = ['count']\n",
    "    ).properties(\n",
    "        width=900,\n",
    "        height=300\n",
    "    )\n",
    "\n",
    "line"
   ]
  },
  {
   "cell_type": "code",
   "execution_count": 39,
   "id": "a0bbd65d-8bcc-4bf6-9244-fa9b9ddf01fc",
   "metadata": {
    "jupyter": {
     "source_hidden": true
    }
   },
   "outputs": [
    {
     "data": {
      "text/html": [
       "\n",
       "<style>\n",
       "  #altair-viz-837a7b7c879c4a5892a4570c029d5aa3.vega-embed {\n",
       "    width: 100%;\n",
       "    display: flex;\n",
       "  }\n",
       "\n",
       "  #altair-viz-837a7b7c879c4a5892a4570c029d5aa3.vega-embed details,\n",
       "  #altair-viz-837a7b7c879c4a5892a4570c029d5aa3.vega-embed details summary {\n",
       "    position: relative;\n",
       "  }\n",
       "</style>\n",
       "<div id=\"altair-viz-837a7b7c879c4a5892a4570c029d5aa3\"></div>\n",
       "<script type=\"text/javascript\">\n",
       "  var VEGA_DEBUG = (typeof VEGA_DEBUG == \"undefined\") ? {} : VEGA_DEBUG;\n",
       "  (function(spec, embedOpt){\n",
       "    let outputDiv = document.currentScript.previousElementSibling;\n",
       "    if (outputDiv.id !== \"altair-viz-837a7b7c879c4a5892a4570c029d5aa3\") {\n",
       "      outputDiv = document.getElementById(\"altair-viz-837a7b7c879c4a5892a4570c029d5aa3\");\n",
       "    }\n",
       "    const paths = {\n",
       "      \"vega\": \"https://cdn.jsdelivr.net/npm/vega@5?noext\",\n",
       "      \"vega-lib\": \"https://cdn.jsdelivr.net/npm/vega-lib?noext\",\n",
       "      \"vega-lite\": \"https://cdn.jsdelivr.net/npm/vega-lite@5.14.1?noext\",\n",
       "      \"vega-embed\": \"https://cdn.jsdelivr.net/npm/vega-embed@6?noext\",\n",
       "    };\n",
       "\n",
       "    function maybeLoadScript(lib, version) {\n",
       "      var key = `${lib.replace(\"-\", \"\")}_version`;\n",
       "      return (VEGA_DEBUG[key] == version) ?\n",
       "        Promise.resolve(paths[lib]) :\n",
       "        new Promise(function(resolve, reject) {\n",
       "          var s = document.createElement('script');\n",
       "          document.getElementsByTagName(\"head\")[0].appendChild(s);\n",
       "          s.async = true;\n",
       "          s.onload = () => {\n",
       "            VEGA_DEBUG[key] = version;\n",
       "            return resolve(paths[lib]);\n",
       "          };\n",
       "          s.onerror = () => reject(`Error loading script: ${paths[lib]}`);\n",
       "          s.src = paths[lib];\n",
       "        });\n",
       "    }\n",
       "\n",
       "    function showError(err) {\n",
       "      outputDiv.innerHTML = `<div class=\"error\" style=\"color:red;\">${err}</div>`;\n",
       "      throw err;\n",
       "    }\n",
       "\n",
       "    function displayChart(vegaEmbed) {\n",
       "      vegaEmbed(outputDiv, spec, embedOpt)\n",
       "        .catch(err => showError(`Javascript Error: ${err.message}<br>This usually means there's a typo in your chart specification. See the javascript console for the full traceback.`));\n",
       "    }\n",
       "\n",
       "    if(typeof define === \"function\" && define.amd) {\n",
       "      requirejs.config({paths});\n",
       "      require([\"vega-embed\"], displayChart, err => showError(`Error loading script: ${err.message}`));\n",
       "    } else {\n",
       "      maybeLoadScript(\"vega\", \"5\")\n",
       "        .then(() => maybeLoadScript(\"vega-lite\", \"5.14.1\"))\n",
       "        .then(() => maybeLoadScript(\"vega-embed\", \"6\"))\n",
       "        .catch(showError)\n",
       "        .then(() => displayChart(vegaEmbed));\n",
       "    }\n",
       "  })({\"$schema\": \"https://vega.github.io/schema/vega/v5.json\", \"data\": [{\"name\": \"source_0\", \"values\": [{\"__count\": 54772, \"time_status\": \"PM\"}, {\"__count\": 36979, \"time_status\": \"AM\"}]}, {\"name\": \"source_0_x_domain_time_status\", \"values\": [{\"time_status\": \"PM\"}, {\"time_status\": \"AM\"}]}, {\"name\": \"source_0_y_domain___count\", \"values\": [{\"min\": 36979, \"max\": 54772}]}], \"marks\": [{\"type\": \"rect\", \"name\": \"marks\", \"from\": {\"data\": \"source_0\"}, \"encode\": {\"update\": {\"y\": {\"field\": \"__count\", \"scale\": \"y\"}, \"y2\": {\"value\": 0, \"scale\": \"y\"}, \"description\": {\"signal\": \"\\\"time_status: \\\" + (isValid(datum[\\\"time_status\\\"]) ? datum[\\\"time_status\\\"] : \\\"\\\"+datum[\\\"time_status\\\"]) + \\\"; Arrest Count: \\\" + (format(datum[\\\"__count\\\"], \\\"\\\")) + \\\"; Count of Records: \\\" + (format(datum[\\\"__count\\\"], \\\"\\\"))\"}, \"fill\": {\"value\": \"#4c78a8\"}, \"width\": {\"signal\": \"max(0.25, bandwidth('x'))\"}, \"tooltip\": {\"signal\": \"{\\\"Count of Records\\\": format(datum[\\\"__count\\\"], \\\"\\\")}\"}, \"ariaRoleDescription\": {\"value\": \"bar\"}, \"x\": {\"field\": \"time_status\", \"scale\": \"x\"}}}, \"style\": [\"bar\"]}], \"scales\": [{\"name\": \"x\", \"type\": \"band\", \"domain\": {\"data\": \"source_0_x_domain_time_status\", \"field\": \"time_status\", \"sort\": true}, \"range\": [0, {\"signal\": \"width\"}], \"paddingInner\": 0.1, \"paddingOuter\": 0.05}, {\"name\": \"y\", \"type\": \"linear\", \"domain\": [{\"signal\": \"(data(\\\"source_0_y_domain___count\\\")[0] || {}).min\"}, {\"signal\": \"(data(\\\"source_0_y_domain___count\\\")[0] || {}).max\"}], \"range\": [{\"signal\": \"height\"}, 0], \"nice\": true, \"zero\": true}], \"axes\": [{\"scale\": \"y\", \"gridScale\": \"x\", \"grid\": true, \"aria\": false, \"labels\": false, \"tickCount\": {\"signal\": \"ceil(height/40)\"}, \"orient\": \"left\", \"ticks\": false, \"minExtent\": 0, \"zindex\": 0, \"maxExtent\": 0, \"domain\": false}, {\"scale\": \"x\", \"orient\": \"bottom\", \"zindex\": 0, \"labelAngle\": 0, \"labelBaseline\": \"top\", \"grid\": false}, {\"scale\": \"y\", \"orient\": \"left\", \"grid\": false, \"title\": \"Arrest Count\", \"labelOverlap\": true, \"tickCount\": {\"signal\": \"ceil(height/40)\"}, \"zindex\": 0}], \"title\": {\"text\": \"Arrests Counts by AM and PM\", \"offset\": 20, \"frame\": \"group\", \"font\": \"Century\", \"orient\": \"top\", \"fontSize\": 18}, \"height\": 300, \"width\": 400, \"style\": \"cell\", \"background\": \"white\", \"padding\": 5}, {\"mode\": \"vega\"});\n",
       "</script>"
      ],
      "text/plain": [
       "alt.Chart(...)"
      ]
     },
     "execution_count": 39,
     "metadata": {},
     "output_type": "execute_result"
    }
   ],
   "source": [
    "# Bar Chart for Arrests grouped by AM and PM\n",
    "\n",
    "bar = alt.Chart(overall_time_data, title = chart_title_func('Arrests Counts by AM and PM'))\\\n",
    "    .mark_bar()\\\n",
    "    .encode(\n",
    "        alt.X(\"time_status\", axis=alt.Axis(labelAngle=0), title = ''),\n",
    "        alt.Y('count()', title = 'Arrest Count'),\n",
    "        tooltip=[\"count()\"]\n",
    "    ).properties(\n",
    "        width=400,\n",
    "        height=300\n",
    "    )\n",
    "\n",
    "bar"
   ]
  },
  {
   "cell_type": "code",
   "execution_count": 40,
   "id": "3fa8c45e-00d7-4468-aa89-85debb041084",
   "metadata": {
    "jupyter": {
     "source_hidden": true
    }
   },
   "outputs": [
    {
     "data": {
      "text/html": [
       "\n",
       "<style>\n",
       "  #altair-viz-7abf9a89d5f64f0e820176f0809d4ed6.vega-embed {\n",
       "    width: 100%;\n",
       "    display: flex;\n",
       "  }\n",
       "\n",
       "  #altair-viz-7abf9a89d5f64f0e820176f0809d4ed6.vega-embed details,\n",
       "  #altair-viz-7abf9a89d5f64f0e820176f0809d4ed6.vega-embed details summary {\n",
       "    position: relative;\n",
       "  }\n",
       "</style>\n",
       "<div id=\"altair-viz-7abf9a89d5f64f0e820176f0809d4ed6\"></div>\n",
       "<script type=\"text/javascript\">\n",
       "  var VEGA_DEBUG = (typeof VEGA_DEBUG == \"undefined\") ? {} : VEGA_DEBUG;\n",
       "  (function(spec, embedOpt){\n",
       "    let outputDiv = document.currentScript.previousElementSibling;\n",
       "    if (outputDiv.id !== \"altair-viz-7abf9a89d5f64f0e820176f0809d4ed6\") {\n",
       "      outputDiv = document.getElementById(\"altair-viz-7abf9a89d5f64f0e820176f0809d4ed6\");\n",
       "    }\n",
       "    const paths = {\n",
       "      \"vega\": \"https://cdn.jsdelivr.net/npm/vega@5?noext\",\n",
       "      \"vega-lib\": \"https://cdn.jsdelivr.net/npm/vega-lib?noext\",\n",
       "      \"vega-lite\": \"https://cdn.jsdelivr.net/npm/vega-lite@5.14.1?noext\",\n",
       "      \"vega-embed\": \"https://cdn.jsdelivr.net/npm/vega-embed@6?noext\",\n",
       "    };\n",
       "\n",
       "    function maybeLoadScript(lib, version) {\n",
       "      var key = `${lib.replace(\"-\", \"\")}_version`;\n",
       "      return (VEGA_DEBUG[key] == version) ?\n",
       "        Promise.resolve(paths[lib]) :\n",
       "        new Promise(function(resolve, reject) {\n",
       "          var s = document.createElement('script');\n",
       "          document.getElementsByTagName(\"head\")[0].appendChild(s);\n",
       "          s.async = true;\n",
       "          s.onload = () => {\n",
       "            VEGA_DEBUG[key] = version;\n",
       "            return resolve(paths[lib]);\n",
       "          };\n",
       "          s.onerror = () => reject(`Error loading script: ${paths[lib]}`);\n",
       "          s.src = paths[lib];\n",
       "        });\n",
       "    }\n",
       "\n",
       "    function showError(err) {\n",
       "      outputDiv.innerHTML = `<div class=\"error\" style=\"color:red;\">${err}</div>`;\n",
       "      throw err;\n",
       "    }\n",
       "\n",
       "    function displayChart(vegaEmbed) {\n",
       "      vegaEmbed(outputDiv, spec, embedOpt)\n",
       "        .catch(err => showError(`Javascript Error: ${err.message}<br>This usually means there's a typo in your chart specification. See the javascript console for the full traceback.`));\n",
       "    }\n",
       "\n",
       "    if(typeof define === \"function\" && define.amd) {\n",
       "      requirejs.config({paths});\n",
       "      require([\"vega-embed\"], displayChart, err => showError(`Error loading script: ${err.message}`));\n",
       "    } else {\n",
       "      maybeLoadScript(\"vega\", \"5\")\n",
       "        .then(() => maybeLoadScript(\"vega-lite\", \"5.14.1\"))\n",
       "        .then(() => maybeLoadScript(\"vega-embed\", \"6\"))\n",
       "        .catch(showError)\n",
       "        .then(() => displayChart(vegaEmbed));\n",
       "    }\n",
       "  })({\"$schema\": \"https://vega.github.io/schema/vega/v5.json\", \"data\": [{\"name\": \"source_0\", \"values\": [{\"__count\": 4761, \"bin_maxbins_30_time_arr\": 1700.0, \"bin_maxbins_30_time_arr_end\": 1800.0}, {\"__count\": 3933, \"bin_maxbins_30_time_arr\": 1000.0, \"bin_maxbins_30_time_arr_end\": 1100.0}, {\"__count\": 4509, \"bin_maxbins_30_time_arr\": 1800.0, \"bin_maxbins_30_time_arr_end\": 1900.0}, {\"__count\": 5058, \"bin_maxbins_30_time_arr\": 1400.0, \"bin_maxbins_30_time_arr_end\": 1500.0}, {\"__count\": 5219, \"bin_maxbins_30_time_arr\": 1500.0, \"bin_maxbins_30_time_arr_end\": 1600.0}, {\"__count\": 1486, \"bin_maxbins_30_time_arr\": 700.0, \"bin_maxbins_30_time_arr_end\": 800.0}, {\"__count\": 3916, \"bin_maxbins_30_time_arr\": 2200.0, \"bin_maxbins_30_time_arr_end\": 2300.0}, {\"__count\": 4269, \"bin_maxbins_30_time_arr\": 1100.0, \"bin_maxbins_30_time_arr_end\": 1200.0}, {\"__count\": 4398, \"bin_maxbins_30_time_arr\": 2300.0, \"bin_maxbins_30_time_arr_end\": 2400.0}, {\"__count\": 3211, \"bin_maxbins_30_time_arr\": 900.0, \"bin_maxbins_30_time_arr_end\": 1000.0}, {\"__count\": 4397, \"bin_maxbins_30_time_arr\": 1900.0, \"bin_maxbins_30_time_arr_end\": 2000.0}, {\"__count\": 4975, \"bin_maxbins_30_time_arr\": 1600.0, \"bin_maxbins_30_time_arr_end\": 1700.0}, {\"__count\": 5534, \"bin_maxbins_30_time_arr\": 0.0, \"bin_maxbins_30_time_arr_end\": 100.0}, {\"__count\": 1483, \"bin_maxbins_30_time_arr\": 500.0, \"bin_maxbins_30_time_arr_end\": 600.0}, {\"__count\": 4127, \"bin_maxbins_30_time_arr\": 100.0, \"bin_maxbins_30_time_arr_end\": 200.0}, {\"__count\": 4023, \"bin_maxbins_30_time_arr\": 2100.0, \"bin_maxbins_30_time_arr_end\": 2200.0}, {\"__count\": 3075, \"bin_maxbins_30_time_arr\": 300.0, \"bin_maxbins_30_time_arr_end\": 400.0}, {\"__count\": 4490, \"bin_maxbins_30_time_arr\": 1200.0, \"bin_maxbins_30_time_arr_end\": 1300.0}, {\"__count\": 2320, \"bin_maxbins_30_time_arr\": 800.0, \"bin_maxbins_30_time_arr_end\": 900.0}, {\"__count\": 4199, \"bin_maxbins_30_time_arr\": 2000.0, \"bin_maxbins_30_time_arr_end\": 2100.0}, {\"__count\": 4827, \"bin_maxbins_30_time_arr\": 1300.0, \"bin_maxbins_30_time_arr_end\": 1400.0}, {\"__count\": 2225, \"bin_maxbins_30_time_arr\": 400.0, \"bin_maxbins_30_time_arr_end\": 500.0}, {\"__count\": 4072, \"bin_maxbins_30_time_arr\": 200.0, \"bin_maxbins_30_time_arr_end\": 300.0}, {\"__count\": 1244, \"bin_maxbins_30_time_arr\": 600.0, \"bin_maxbins_30_time_arr_end\": 700.0}]}, {\"name\": \"source_0_y_domain___count\", \"values\": [{\"min\": 1244, \"max\": 5534}]}, {\"name\": \"source_0_color_domain___count\", \"values\": [{\"min\": 1244, \"max\": 5534}]}], \"signals\": [{\"name\": \"bin_maxbins_30_time_arr_bins\", \"value\": {\"fields\": [\"time_arr\"], \"fname\": \"bin_time_arr\", \"start\": 0.0, \"step\": 100.0, \"stop\": 2400.0}}], \"marks\": [{\"type\": \"rect\", \"name\": \"marks\", \"from\": {\"data\": \"source_0\"}, \"encode\": {\"update\": {\"y\": {\"field\": \"__count\", \"scale\": \"y\"}, \"tooltip\": {\"signal\": \"{\\\"Count of Records\\\": format(datum[\\\"__count\\\"], \\\"\\\")}\"}, \"x\": {\"field\": \"bin_maxbins_30_time_arr_end\", \"scale\": \"x\", \"offset\": {\"signal\": \"0.5 + (abs(scale(\\\"x\\\", datum[\\\"bin_maxbins_30_time_arr_end\\\"]) - scale(\\\"x\\\", datum[\\\"bin_maxbins_30_time_arr\\\"])) < 0.25 ? 0.5 * (0.25 - (abs(scale(\\\"x\\\", datum[\\\"bin_maxbins_30_time_arr_end\\\"]) - scale(\\\"x\\\", datum[\\\"bin_maxbins_30_time_arr\\\"])))) : -0.5)\"}}, \"fill\": {\"field\": \"__count\", \"scale\": \"color\"}, \"description\": {\"signal\": \"\\\"Time: \\\" + (!isValid(datum[\\\"bin_maxbins_30_time_arr\\\"]) || !isFinite(+datum[\\\"bin_maxbins_30_time_arr\\\"]) ? \\\"null\\\" : format(datum[\\\"bin_maxbins_30_time_arr\\\"], \\\"\\\") + \\\" \\u2013 \\\" + format(datum[\\\"bin_maxbins_30_time_arr_end\\\"], \\\"\\\")) + \\\"; Arrest Count: \\\" + (format(datum[\\\"__count\\\"], \\\"\\\")) + \\\"; Count of Records: \\\" + (format(datum[\\\"__count\\\"], \\\"\\\"))\"}, \"ariaRoleDescription\": {\"value\": \"bar\"}, \"x2\": {\"field\": \"bin_maxbins_30_time_arr\", \"scale\": \"x\", \"offset\": {\"signal\": \"0.5 + (abs(scale(\\\"x\\\", datum[\\\"bin_maxbins_30_time_arr_end\\\"]) - scale(\\\"x\\\", datum[\\\"bin_maxbins_30_time_arr\\\"])) < 0.25 ? -0.5 * (0.25 - (abs(scale(\\\"x\\\", datum[\\\"bin_maxbins_30_time_arr_end\\\"]) - scale(\\\"x\\\", datum[\\\"bin_maxbins_30_time_arr\\\"])))) : 0.5)\"}}, \"y2\": {\"value\": 0, \"scale\": \"y\"}}}, \"style\": [\"bar\"]}], \"scales\": [{\"name\": \"x\", \"type\": \"linear\", \"domain\": {\"signal\": \"[bin_maxbins_30_time_arr_bins.start, bin_maxbins_30_time_arr_bins.stop]\"}, \"range\": [0, {\"signal\": \"width\"}], \"bins\": {\"signal\": \"bin_maxbins_30_time_arr_bins\"}, \"zero\": false}, {\"name\": \"y\", \"type\": \"linear\", \"domain\": [{\"signal\": \"(data(\\\"source_0_y_domain___count\\\")[0] || {}).min\"}, {\"signal\": \"(data(\\\"source_0_y_domain___count\\\")[0] || {}).max\"}], \"range\": [{\"signal\": \"height\"}, 0], \"nice\": true, \"zero\": true}, {\"name\": \"color\", \"type\": \"linear\", \"domain\": [{\"signal\": \"(data(\\\"source_0_color_domain___count\\\")[0] || {}).min\"}, {\"signal\": \"(data(\\\"source_0_color_domain___count\\\")[0] || {}).max\"}], \"range\": {\"scheme\": \"redyellowgreen\"}, \"zero\": false, \"domainMid\": 0, \"interpolate\": \"hcl\", \"reverse\": true}], \"axes\": [{\"scale\": \"y\", \"zindex\": 0, \"orient\": \"left\", \"gridScale\": \"x\", \"labels\": false, \"grid\": true, \"ticks\": false, \"maxExtent\": 0, \"tickCount\": {\"signal\": \"ceil(height/40)\"}, \"aria\": false, \"domain\": false, \"minExtent\": 0}, {\"scale\": \"x\", \"title\": \"Time\", \"zindex\": 0, \"orient\": \"bottom\", \"grid\": false, \"tickCount\": {\"signal\": \"ceil(width/10)\"}, \"labelFlush\": true, \"labelAngle\": 315, \"labelOverlap\": true, \"labelBaseline\": \"top\", \"labelAlign\": \"right\"}, {\"scale\": \"y\", \"tickCount\": {\"signal\": \"ceil(height/40)\"}, \"orient\": \"left\", \"grid\": false, \"labelOverlap\": true, \"zindex\": 0, \"title\": \"Arrest Count\"}], \"title\": {\"text\": \"Arrest by hours\", \"orient\": \"top\", \"offset\": 20, \"font\": \"Century\", \"fontSize\": 18, \"subtitle\": [\"This Histogram of All time data from January, 2010 to September, 2023.\"], \"frame\": \"group\"}, \"width\": 900, \"height\": 250, \"legends\": [{\"fill\": \"color\", \"gradientLength\": {\"signal\": \"clamp(height, 64, 200)\"}, \"title\": \"Count of Records\"}], \"background\": \"white\", \"padding\": 5, \"style\": \"cell\"}, {\"mode\": \"vega\"});\n",
       "</script>"
      ],
      "text/plain": [
       "alt.Chart(...)"
      ]
     },
     "execution_count": 40,
     "metadata": {},
     "output_type": "execute_result"
    }
   ],
   "source": [
    "# Histogram of Arrest Time\n",
    "\n",
    "color_scale = alt.Scale(\n",
    "    type='linear',\n",
    "    scheme='redyellowgreen',\n",
    "    domainMid=0,\n",
    "    reverse = True\n",
    ")\n",
    "\n",
    "hist_title = f\"Arrest by hours\"\n",
    "\n",
    "hist = alt.Chart(overall_time_data, title = chart_title_func(hist_title, [f\"This Histogram of All time data from {min_month_year} to {max_month_year}.\"]))\\\n",
    "    .mark_bar()\\\n",
    "    .encode(\n",
    "        alt.X(\"time_arr:Q\", bin=alt.Bin(maxbins=30), axis=alt.Axis(labelAngle=-45), title = 'Time'),\n",
    "        alt.Y('count()', title = 'Arrest Count'),\n",
    "        tooltip=[\"count()\"],\n",
    "        color = alt.Color('count():N', scale=color_scale)\n",
    "    ).properties(\n",
    "        width=900,\n",
    "        height=250\n",
    "    )\n",
    "\n",
    "\n",
    "hist"
   ]
  },
  {
   "cell_type": "code",
   "execution_count": 41,
   "id": "6b44e2ec-a630-4249-9191-3144e8ed6d19",
   "metadata": {
    "jupyter": {
     "source_hidden": true
    }
   },
   "outputs": [
    {
     "data": {
      "text/html": [
       "\n",
       "<style>\n",
       "  #altair-viz-0fbe1df241434d7d8417525aaf52d103.vega-embed {\n",
       "    width: 100%;\n",
       "    display: flex;\n",
       "  }\n",
       "\n",
       "  #altair-viz-0fbe1df241434d7d8417525aaf52d103.vega-embed details,\n",
       "  #altair-viz-0fbe1df241434d7d8417525aaf52d103.vega-embed details summary {\n",
       "    position: relative;\n",
       "  }\n",
       "</style>\n",
       "<div id=\"altair-viz-0fbe1df241434d7d8417525aaf52d103\"></div>\n",
       "<script type=\"text/javascript\">\n",
       "  var VEGA_DEBUG = (typeof VEGA_DEBUG == \"undefined\") ? {} : VEGA_DEBUG;\n",
       "  (function(spec, embedOpt){\n",
       "    let outputDiv = document.currentScript.previousElementSibling;\n",
       "    if (outputDiv.id !== \"altair-viz-0fbe1df241434d7d8417525aaf52d103\") {\n",
       "      outputDiv = document.getElementById(\"altair-viz-0fbe1df241434d7d8417525aaf52d103\");\n",
       "    }\n",
       "    const paths = {\n",
       "      \"vega\": \"https://cdn.jsdelivr.net/npm/vega@5?noext\",\n",
       "      \"vega-lib\": \"https://cdn.jsdelivr.net/npm/vega-lib?noext\",\n",
       "      \"vega-lite\": \"https://cdn.jsdelivr.net/npm/vega-lite@5.14.1?noext\",\n",
       "      \"vega-embed\": \"https://cdn.jsdelivr.net/npm/vega-embed@6?noext\",\n",
       "    };\n",
       "\n",
       "    function maybeLoadScript(lib, version) {\n",
       "      var key = `${lib.replace(\"-\", \"\")}_version`;\n",
       "      return (VEGA_DEBUG[key] == version) ?\n",
       "        Promise.resolve(paths[lib]) :\n",
       "        new Promise(function(resolve, reject) {\n",
       "          var s = document.createElement('script');\n",
       "          document.getElementsByTagName(\"head\")[0].appendChild(s);\n",
       "          s.async = true;\n",
       "          s.onload = () => {\n",
       "            VEGA_DEBUG[key] = version;\n",
       "            return resolve(paths[lib]);\n",
       "          };\n",
       "          s.onerror = () => reject(`Error loading script: ${paths[lib]}`);\n",
       "          s.src = paths[lib];\n",
       "        });\n",
       "    }\n",
       "\n",
       "    function showError(err) {\n",
       "      outputDiv.innerHTML = `<div class=\"error\" style=\"color:red;\">${err}</div>`;\n",
       "      throw err;\n",
       "    }\n",
       "\n",
       "    function displayChart(vegaEmbed) {\n",
       "      vegaEmbed(outputDiv, spec, embedOpt)\n",
       "        .catch(err => showError(`Javascript Error: ${err.message}<br>This usually means there's a typo in your chart specification. See the javascript console for the full traceback.`));\n",
       "    }\n",
       "\n",
       "    if(typeof define === \"function\" && define.amd) {\n",
       "      requirejs.config({paths});\n",
       "      require([\"vega-embed\"], displayChart, err => showError(`Error loading script: ${err.message}`));\n",
       "    } else {\n",
       "      maybeLoadScript(\"vega\", \"5\")\n",
       "        .then(() => maybeLoadScript(\"vega-lite\", \"5.14.1\"))\n",
       "        .then(() => maybeLoadScript(\"vega-embed\", \"6\"))\n",
       "        .catch(showError)\n",
       "        .then(() => displayChart(vegaEmbed));\n",
       "    }\n",
       "  })({\"$schema\": \"https://vega.github.io/schema/vega/v5.json\", \"data\": [{\"name\": \"source_0\"}, {\"name\": \"data_0\", \"values\": [{\"mean\": 557.7142857142857, \"mean_end\": 557.7142857142857, \"mean_start\": 0.0, \"month_name\": \"January\"}, {\"mean\": 547.2857142857143, \"mean_end\": 547.2857142857143, \"mean_start\": 0.0, \"month_name\": \"February\"}, {\"mean\": 581.0714285714286, \"mean_end\": 581.0714285714286, \"mean_start\": 0.0, \"month_name\": \"March\"}, {\"mean\": 560.9285714285714, \"mean_end\": 560.9285714285714, \"mean_start\": 0.0, \"month_name\": \"April\"}, {\"mean\": 569.7857142857143, \"mean_end\": 569.7857142857143, \"mean_start\": 0.0, \"month_name\": \"May\"}, {\"mean\": 545.9285714285714, \"mean_end\": 545.9285714285714, \"mean_start\": 0.0, \"month_name\": \"June\"}, {\"mean\": 575.9285714285714, \"mean_end\": 575.9285714285714, \"mean_start\": 0.0, \"month_name\": \"July\"}, {\"mean\": 585.1428571428571, \"mean_end\": 585.1428571428571, \"mean_start\": 0.0, \"month_name\": \"August\"}, {\"mean\": 556.0714285714286, \"mean_end\": 556.0714285714286, \"mean_start\": 0.0, \"month_name\": \"September\"}, {\"mean\": 557.0, \"mean_end\": 557.0, \"mean_start\": 0.0, \"month_name\": \"October\"}, {\"mean\": 515.8461538461538, \"mean_end\": 515.8461538461538, \"mean_start\": 0.0, \"month_name\": \"November\"}, {\"mean\": 514.3076923076923, \"mean_end\": 514.3076923076923, \"mean_start\": 0.0, \"month_name\": \"December\"}]}, {\"name\": \"source_0_x_domain_month_name\", \"values\": [{\"month_name\": \"January\", \"sort_field\": 0.0}, {\"month_name\": \"February\", \"sort_field\": 1.0}, {\"month_name\": \"March\", \"sort_field\": 2.0}, {\"month_name\": \"April\", \"sort_field\": 3.0}, {\"month_name\": \"May\", \"sort_field\": 4.0}, {\"month_name\": \"June\", \"sort_field\": 5.0}, {\"month_name\": \"July\", \"sort_field\": 6.0}, {\"month_name\": \"August\", \"sort_field\": 7.0}, {\"month_name\": \"September\", \"sort_field\": 8.0}, {\"month_name\": \"October\", \"sort_field\": 9.0}, {\"month_name\": \"November\", \"sort_field\": 10.0}, {\"month_name\": \"December\", \"sort_field\": 11.0}]}], \"marks\": [{\"type\": \"rect\", \"name\": \"marks\", \"from\": {\"data\": \"data_0\"}, \"encode\": {\"update\": {\"tooltip\": {\"signal\": \"{\\\"mean\\\": format(datum[\\\"mean\\\"], \\\"\\\")}\"}, \"ariaRoleDescription\": {\"value\": \"bar\"}, \"x\": {\"field\": \"month_name\", \"scale\": \"x\"}, \"width\": {\"signal\": \"max(0.25, bandwidth('x'))\"}, \"y\": {\"field\": \"mean_end\", \"scale\": \"y\"}, \"description\": {\"signal\": \"\\\"month_name: \\\" + (isValid(datum[\\\"month_name\\\"]) ? datum[\\\"month_name\\\"] : \\\"\\\"+datum[\\\"month_name\\\"]) + \\\"; Arrest Count Mean: \\\" + (format(datum[\\\"mean\\\"], \\\"\\\")) + \\\"; mean: \\\" + (format(datum[\\\"mean\\\"], \\\"\\\"))\"}, \"fill\": {\"value\": \"#4c78a8\"}, \"y2\": {\"field\": \"mean_start\", \"scale\": \"y\"}}}, \"style\": [\"bar\"]}], \"scales\": [{\"name\": \"x\", \"type\": \"band\", \"domain\": {\"data\": \"source_0_x_domain_month_name\", \"field\": \"month_name\", \"sort\": {\"op\": \"max\", \"field\": \"sort_field\"}}, \"range\": [0, {\"signal\": \"width\"}], \"paddingInner\": 0.1, \"paddingOuter\": 0.05}, {\"name\": \"y\", \"type\": \"linear\", \"domain\": {\"fields\": [\"mean_start\", \"mean_end\"], \"data\": \"data_0\"}, \"range\": [{\"signal\": \"height\"}, 0], \"zero\": true, \"nice\": true}], \"axes\": [{\"scale\": \"y\", \"orient\": \"left\", \"aria\": false, \"minExtent\": 0, \"labels\": false, \"maxExtent\": 0, \"ticks\": false, \"zindex\": 0, \"domain\": false, \"grid\": true, \"tickCount\": {\"signal\": \"ceil(height/40)\"}, \"gridScale\": \"x\"}, {\"scale\": \"x\", \"orient\": \"bottom\", \"zindex\": 0, \"grid\": false, \"labelAngle\": 0, \"labelBaseline\": \"top\"}, {\"scale\": \"y\", \"grid\": false, \"zindex\": 0, \"title\": \"Arrest Count Mean\", \"labelOverlap\": true, \"orient\": \"left\", \"tickCount\": {\"signal\": \"ceil(height/40)\"}}], \"title\": {\"text\": \"Arrests average for Each Month\", \"font\": \"Century\", \"fontSize\": 18, \"offset\": 20, \"orient\": \"top\", \"frame\": \"group\", \"subtitle\": [\"This Chart is for January, 2010 to September, 2023, for 2023 data is limited to September.\", \"Average across all months is 555.58\"]}, \"height\": 250, \"style\": \"cell\", \"width\": 900, \"padding\": 5, \"background\": \"white\"}, {\"mode\": \"vega\"});\n",
       "</script>"
      ],
      "text/plain": [
       "alt.Chart(...)"
      ]
     },
     "execution_count": 41,
     "metadata": {},
     "output_type": "execute_result"
    }
   ],
   "source": [
    "# Bar of Arrest Time\n",
    "\n",
    "bar_title = f\"Arrests average for Each Month\"\n",
    "\n",
    "bar = alt.Chart(\n",
    "    monthly_mean_data, \n",
    "    title = chart_title_func(bar_title, \n",
    "                             [f\"This Chart is for {min_month_year} to {max_month_year}, for 2023 data is limited to September.\", \n",
    "                             f\"Average across all months is {round(np.mean(monthly_mean_data['mean']), 2)}\"]))\\\n",
    "    .mark_bar()\\\n",
    "    .encode(\n",
    "        alt.X(\"month_name\", axis=alt.Axis(labelAngle=0), title = '').sort([i for i in monthly_mean_data['month_name']]),\n",
    "        alt.Y('mean', title = 'Arrest Count Mean'),\n",
    "        tooltip=[\"mean\"]\n",
    "    ).properties(\n",
    "        width=900,\n",
    "        height=250\n",
    "    )\n",
    "\n",
    "\n",
    "bar"
   ]
  },
  {
   "cell_type": "code",
   "execution_count": 42,
   "id": "ddc4a67a-0788-4f97-86ee-a3282bb06f3f",
   "metadata": {
    "jupyter": {
     "source_hidden": true
    }
   },
   "outputs": [
    {
     "data": {
      "text/html": [
       "\n",
       "<style>\n",
       "  #altair-viz-4ca05e90c8fa442881c669686694ed5c.vega-embed {\n",
       "    width: 100%;\n",
       "    display: flex;\n",
       "  }\n",
       "\n",
       "  #altair-viz-4ca05e90c8fa442881c669686694ed5c.vega-embed details,\n",
       "  #altair-viz-4ca05e90c8fa442881c669686694ed5c.vega-embed details summary {\n",
       "    position: relative;\n",
       "  }\n",
       "</style>\n",
       "<div id=\"altair-viz-4ca05e90c8fa442881c669686694ed5c\"></div>\n",
       "<script type=\"text/javascript\">\n",
       "  var VEGA_DEBUG = (typeof VEGA_DEBUG == \"undefined\") ? {} : VEGA_DEBUG;\n",
       "  (function(spec, embedOpt){\n",
       "    let outputDiv = document.currentScript.previousElementSibling;\n",
       "    if (outputDiv.id !== \"altair-viz-4ca05e90c8fa442881c669686694ed5c\") {\n",
       "      outputDiv = document.getElementById(\"altair-viz-4ca05e90c8fa442881c669686694ed5c\");\n",
       "    }\n",
       "    const paths = {\n",
       "      \"vega\": \"https://cdn.jsdelivr.net/npm/vega@5?noext\",\n",
       "      \"vega-lib\": \"https://cdn.jsdelivr.net/npm/vega-lib?noext\",\n",
       "      \"vega-lite\": \"https://cdn.jsdelivr.net/npm/vega-lite@5.14.1?noext\",\n",
       "      \"vega-embed\": \"https://cdn.jsdelivr.net/npm/vega-embed@6?noext\",\n",
       "    };\n",
       "\n",
       "    function maybeLoadScript(lib, version) {\n",
       "      var key = `${lib.replace(\"-\", \"\")}_version`;\n",
       "      return (VEGA_DEBUG[key] == version) ?\n",
       "        Promise.resolve(paths[lib]) :\n",
       "        new Promise(function(resolve, reject) {\n",
       "          var s = document.createElement('script');\n",
       "          document.getElementsByTagName(\"head\")[0].appendChild(s);\n",
       "          s.async = true;\n",
       "          s.onload = () => {\n",
       "            VEGA_DEBUG[key] = version;\n",
       "            return resolve(paths[lib]);\n",
       "          };\n",
       "          s.onerror = () => reject(`Error loading script: ${paths[lib]}`);\n",
       "          s.src = paths[lib];\n",
       "        });\n",
       "    }\n",
       "\n",
       "    function showError(err) {\n",
       "      outputDiv.innerHTML = `<div class=\"error\" style=\"color:red;\">${err}</div>`;\n",
       "      throw err;\n",
       "    }\n",
       "\n",
       "    function displayChart(vegaEmbed) {\n",
       "      vegaEmbed(outputDiv, spec, embedOpt)\n",
       "        .catch(err => showError(`Javascript Error: ${err.message}<br>This usually means there's a typo in your chart specification. See the javascript console for the full traceback.`));\n",
       "    }\n",
       "\n",
       "    if(typeof define === \"function\" && define.amd) {\n",
       "      requirejs.config({paths});\n",
       "      require([\"vega-embed\"], displayChart, err => showError(`Error loading script: ${err.message}`));\n",
       "    } else {\n",
       "      maybeLoadScript(\"vega\", \"5\")\n",
       "        .then(() => maybeLoadScript(\"vega-lite\", \"5.14.1\"))\n",
       "        .then(() => maybeLoadScript(\"vega-embed\", \"6\"))\n",
       "        .catch(showError)\n",
       "        .then(() => displayChart(vegaEmbed));\n",
       "    }\n",
       "  })({\"$schema\": \"https://vega.github.io/schema/vega/v5.json\", \"data\": [{\"name\": \"source_0\"}, {\"name\": \"data_0\", \"values\": [{\"ar_sex\": \"M\", \"percentage\": 71.66, \"percentage_end\": 71.66, \"percentage_start\": 0.0}, {\"ar_sex\": \"F\", \"percentage\": 27.78, \"percentage_end\": 27.78, \"percentage_start\": 0.0}, {\"ar_sex\": \"U\", \"percentage\": 0.51, \"percentage_end\": 0.51, \"percentage_start\": 0.0}, {\"ar_sex\": \"Missing\", \"percentage\": 0.05, \"percentage_end\": 0.05, \"percentage_start\": 0.0}]}, {\"name\": \"source_0_x_domain_ar_sex\", \"values\": [{\"ar_sex\": \"M\", \"sort_field\": 1.0}, {\"ar_sex\": \"F\", \"sort_field\": 1.0}, {\"ar_sex\": \"U\", \"sort_field\": 1.0}, {\"ar_sex\": \"Missing\", \"sort_field\": 1.0}]}], \"marks\": [{\"type\": \"rect\", \"name\": \"marks\", \"from\": {\"data\": \"data_0\"}, \"encode\": {\"update\": {\"fill\": {\"value\": \"#6291de\"}, \"width\": {\"signal\": \"max(0.25, bandwidth('x'))\"}, \"y\": {\"field\": \"percentage_end\", \"scale\": \"y\"}, \"x\": {\"field\": \"ar_sex\", \"scale\": \"x\"}, \"ariaRoleDescription\": {\"value\": \"bar\"}, \"description\": {\"signal\": \"\\\"ar_sex: \\\" + (isValid(datum[\\\"ar_sex\\\"]) ? datum[\\\"ar_sex\\\"] : \\\"\\\"+datum[\\\"ar_sex\\\"]) + \\\"; Percentage: \\\" + (format(datum[\\\"percentage\\\"], \\\"\\\")) + \\\"; percentage: \\\" + (format(datum[\\\"percentage\\\"], \\\"\\\"))\"}, \"y2\": {\"field\": \"percentage_start\", \"scale\": \"y\"}, \"tooltip\": {\"signal\": \"{\\\"percentage\\\": format(datum[\\\"percentage\\\"], \\\"\\\")}\"}}}, \"style\": [\"bar\"]}], \"scales\": [{\"name\": \"x\", \"type\": \"band\", \"domain\": {\"data\": \"source_0_x_domain_ar_sex\", \"field\": \"ar_sex\", \"sort\": {\"op\": \"max\", \"field\": \"sort_field\"}}, \"range\": [0, {\"signal\": \"width\"}], \"paddingOuter\": 0.05, \"paddingInner\": 0.1}, {\"name\": \"y\", \"type\": \"linear\", \"domain\": {\"fields\": [\"percentage_start\", \"percentage_end\"], \"data\": \"data_0\"}, \"range\": [{\"signal\": \"height\"}, 0], \"nice\": true, \"zero\": true}], \"axes\": [{\"scale\": \"y\", \"minExtent\": 0, \"labels\": false, \"zindex\": 0, \"gridScale\": \"x\", \"aria\": false, \"ticks\": false, \"grid\": true, \"domain\": false, \"tickCount\": {\"signal\": \"ceil(height/40)\"}, \"orient\": \"left\", \"maxExtent\": 0}, {\"scale\": \"x\", \"orient\": \"bottom\", \"labelAngle\": 0, \"zindex\": 0, \"grid\": false, \"labelBaseline\": \"top\"}, {\"scale\": \"y\", \"zindex\": 0, \"labelOverlap\": true, \"orient\": \"left\", \"title\": \"Percentage\", \"grid\": false, \"tickCount\": {\"signal\": \"ceil(height/40)\"}}], \"title\": {\"text\": \"Arrestee's Gender\", \"fontSize\": 18, \"offset\": 20, \"font\": \"Century\", \"orient\": \"top\", \"frame\": \"group\"}, \"background\": \"white\", \"width\": 500, \"height\": 300, \"style\": \"cell\", \"padding\": 5}, {\"mode\": \"vega\"});\n",
       "</script>"
      ],
      "text/plain": [
       "alt.Chart(...)"
      ]
     },
     "execution_count": 42,
     "metadata": {},
     "output_type": "execute_result"
    }
   ],
   "source": [
    "# Overall Gender Data\n",
    "overall_gender_data = overall_gender_data.sort_values('count', ascending = False)\n",
    "\n",
    "\n",
    "gender_bar = alt.Chart(overall_gender_data, title = chart_title_func(\"Arrestee's Gender\"))\\\n",
    "    .mark_bar(color = '#6291de')\\\n",
    "    .encode(\n",
    "        alt.X(\"ar_sex\", axis=alt.Axis(labelAngle=0), title = '').sort(['descending']),\n",
    "        alt.Y('percentage', title = 'Percentage'),\n",
    "        tooltip=[\"percentage\"]\n",
    "    ).properties(\n",
    "        width=500,\n",
    "        height=300\n",
    "    )\n",
    "\n",
    "gender_bar"
   ]
  },
  {
   "cell_type": "code",
   "execution_count": 44,
   "id": "cfb8050a-0db1-4b53-b1dc-575abaf21e54",
   "metadata": {
    "jupyter": {
     "source_hidden": true
    }
   },
   "outputs": [
    {
     "data": {
      "text/html": [
       "\n",
       "<style>\n",
       "  #altair-viz-af91d65789014949855eecbbb7140acd.vega-embed {\n",
       "    width: 100%;\n",
       "    display: flex;\n",
       "  }\n",
       "\n",
       "  #altair-viz-af91d65789014949855eecbbb7140acd.vega-embed details,\n",
       "  #altair-viz-af91d65789014949855eecbbb7140acd.vega-embed details summary {\n",
       "    position: relative;\n",
       "  }\n",
       "</style>\n",
       "<div id=\"altair-viz-af91d65789014949855eecbbb7140acd\"></div>\n",
       "<script type=\"text/javascript\">\n",
       "  var VEGA_DEBUG = (typeof VEGA_DEBUG == \"undefined\") ? {} : VEGA_DEBUG;\n",
       "  (function(spec, embedOpt){\n",
       "    let outputDiv = document.currentScript.previousElementSibling;\n",
       "    if (outputDiv.id !== \"altair-viz-af91d65789014949855eecbbb7140acd\") {\n",
       "      outputDiv = document.getElementById(\"altair-viz-af91d65789014949855eecbbb7140acd\");\n",
       "    }\n",
       "    const paths = {\n",
       "      \"vega\": \"https://cdn.jsdelivr.net/npm/vega@5?noext\",\n",
       "      \"vega-lib\": \"https://cdn.jsdelivr.net/npm/vega-lib?noext\",\n",
       "      \"vega-lite\": \"https://cdn.jsdelivr.net/npm/vega-lite@5.14.1?noext\",\n",
       "      \"vega-embed\": \"https://cdn.jsdelivr.net/npm/vega-embed@6?noext\",\n",
       "    };\n",
       "\n",
       "    function maybeLoadScript(lib, version) {\n",
       "      var key = `${lib.replace(\"-\", \"\")}_version`;\n",
       "      return (VEGA_DEBUG[key] == version) ?\n",
       "        Promise.resolve(paths[lib]) :\n",
       "        new Promise(function(resolve, reject) {\n",
       "          var s = document.createElement('script');\n",
       "          document.getElementsByTagName(\"head\")[0].appendChild(s);\n",
       "          s.async = true;\n",
       "          s.onload = () => {\n",
       "            VEGA_DEBUG[key] = version;\n",
       "            return resolve(paths[lib]);\n",
       "          };\n",
       "          s.onerror = () => reject(`Error loading script: ${paths[lib]}`);\n",
       "          s.src = paths[lib];\n",
       "        });\n",
       "    }\n",
       "\n",
       "    function showError(err) {\n",
       "      outputDiv.innerHTML = `<div class=\"error\" style=\"color:red;\">${err}</div>`;\n",
       "      throw err;\n",
       "    }\n",
       "\n",
       "    function displayChart(vegaEmbed) {\n",
       "      vegaEmbed(outputDiv, spec, embedOpt)\n",
       "        .catch(err => showError(`Javascript Error: ${err.message}<br>This usually means there's a typo in your chart specification. See the javascript console for the full traceback.`));\n",
       "    }\n",
       "\n",
       "    if(typeof define === \"function\" && define.amd) {\n",
       "      requirejs.config({paths});\n",
       "      require([\"vega-embed\"], displayChart, err => showError(`Error loading script: ${err.message}`));\n",
       "    } else {\n",
       "      maybeLoadScript(\"vega\", \"5\")\n",
       "        .then(() => maybeLoadScript(\"vega-lite\", \"5.14.1\"))\n",
       "        .then(() => maybeLoadScript(\"vega-embed\", \"6\"))\n",
       "        .catch(showError)\n",
       "        .then(() => displayChart(vegaEmbed));\n",
       "    }\n",
       "  })({\"$schema\": \"https://vega.github.io/schema/vega/v5.json\", \"data\": [{\"name\": \"source_0\"}, {\"name\": \"data_0\", \"values\": [{\"ar_race\": \"B\", \"ar_sex\": \"M\", \"count\": 46653, \"count_end\": 46653.0, \"count_start\": 0.0}, {\"ar_race\": \"W\", \"ar_sex\": \"M\", \"count\": 17285, \"count_end\": 17285.0, \"count_start\": 0.0}, {\"ar_race\": \"B\", \"ar_sex\": \"F\", \"count\": 15855, \"count_end\": 62508.0, \"count_start\": 46653.0}, {\"ar_race\": \"W\", \"ar_sex\": \"F\", \"count\": 8752, \"count_end\": 26037.0, \"count_start\": 17285.0}, {\"ar_race\": \"I\", \"ar_sex\": \"M\", \"count\": 1196, \"count_end\": 1196.0, \"count_start\": 0.0}, {\"ar_race\": \"I\", \"ar_sex\": \"F\", \"count\": 574, \"count_end\": 1770.0, \"count_start\": 1196.0}, {\"ar_race\": \"A\", \"ar_sex\": \"M\", \"count\": 526, \"count_end\": 526.0, \"count_start\": 0.0}, {\"ar_race\": \"U\", \"ar_sex\": \"U\", \"count\": 378, \"count_end\": 378.0, \"count_start\": 0.0}, {\"ar_race\": \"A\", \"ar_sex\": \"F\", \"count\": 261, \"count_end\": 787.0, \"count_start\": 526.0}, {\"ar_race\": \"Missing\", \"ar_sex\": \"U\", \"count\": 88, \"count_end\": 88.0, \"count_start\": 0.0}, {\"ar_race\": \"U\", \"ar_sex\": \"M\", \"count\": 65, \"count_end\": 443.0, \"count_start\": 378.0}, {\"ar_race\": \"Missing\", \"ar_sex\": \"Missing\", \"count\": 46, \"count_end\": 134.0, \"count_start\": 88.0}, {\"ar_race\": \"U\", \"ar_sex\": \"F\", \"count\": 28, \"count_end\": 471.0, \"count_start\": 443.0}, {\"ar_race\": \"Missing\", \"ar_sex\": \"M\", \"count\": 14, \"count_end\": 148.0, \"count_start\": 134.0}, {\"ar_race\": \"H\", \"ar_sex\": \"F\", \"count\": 10, \"count_end\": 17.0, \"count_start\": 7.0}, {\"ar_race\": \"H\", \"ar_sex\": \"M\", \"count\": 7, \"count_end\": 7.0, \"count_start\": 0.0}, {\"ar_race\": \"O\", \"ar_sex\": \"F\", \"count\": 5, \"count_end\": 9.0, \"count_start\": 4.0}, {\"ar_race\": \"O\", \"ar_sex\": \"M\", \"count\": 4, \"count_end\": 4.0, \"count_start\": 0.0}, {\"ar_race\": \"Missing\", \"ar_sex\": \"F\", \"count\": 3, \"count_end\": 151.0, \"count_start\": 148.0}, {\"ar_race\": \"P\", \"ar_sex\": \"M\", \"count\": 1, \"count_end\": 1.0, \"count_start\": 0.0}]}, {\"name\": \"source_0_x_domain_ar_race\", \"values\": [{\"ar_race\": \"B\", \"sort_field\": 1.0}, {\"ar_race\": \"W\", \"sort_field\": 1.0}, {\"ar_race\": \"I\", \"sort_field\": 1.0}, {\"ar_race\": \"A\", \"sort_field\": 1.0}, {\"ar_race\": \"U\", \"sort_field\": 1.0}, {\"ar_race\": \"Missing\", \"sort_field\": 1.0}, {\"ar_race\": \"H\", \"sort_field\": 1.0}, {\"ar_race\": \"O\", \"sort_field\": 1.0}, {\"ar_race\": \"P\", \"sort_field\": 1.0}]}, {\"name\": \"source_0_color_domain_ar_sex\", \"values\": [{\"ar_sex\": \"M\", \"sort_field\": 1.0}, {\"ar_sex\": \"F\", \"sort_field\": 1.0}, {\"ar_sex\": \"U\", \"sort_field\": 1.0}, {\"ar_sex\": \"Missing\", \"sort_field\": 1.0}]}], \"marks\": [{\"type\": \"rect\", \"name\": \"marks\", \"from\": {\"data\": \"data_0\"}, \"encode\": {\"update\": {\"width\": {\"signal\": \"max(0.25, bandwidth('x'))\"}, \"fill\": {\"field\": \"ar_sex\", \"scale\": \"color\"}, \"x\": {\"field\": \"ar_race\", \"scale\": \"x\"}, \"ariaRoleDescription\": {\"value\": \"bar\"}, \"tooltip\": {\"signal\": \"{\\\"ar_sex\\\": isValid(datum[\\\"ar_sex\\\"]) ? datum[\\\"ar_sex\\\"] : \\\"\\\"+datum[\\\"ar_sex\\\"], \\\"count\\\": format(datum[\\\"count\\\"], \\\"\\\")}\"}, \"description\": {\"signal\": \"\\\"Race: \\\" + (isValid(datum[\\\"ar_race\\\"]) ? datum[\\\"ar_race\\\"] : \\\"\\\"+datum[\\\"ar_race\\\"]) + \\\"; Arrest Count: \\\" + (format(datum[\\\"count\\\"], \\\"\\\")) + \\\"; ar_sex: \\\" + (isValid(datum[\\\"ar_sex\\\"]) ? datum[\\\"ar_sex\\\"] : \\\"\\\"+datum[\\\"ar_sex\\\"]) + \\\"; count: \\\" + (format(datum[\\\"count\\\"], \\\"\\\"))\"}, \"y\": {\"field\": \"count_end\", \"scale\": \"y\"}, \"y2\": {\"field\": \"count_start\", \"scale\": \"y\"}}}, \"style\": [\"bar\"]}], \"scales\": [{\"name\": \"x\", \"type\": \"band\", \"domain\": {\"data\": \"source_0_x_domain_ar_race\", \"field\": \"ar_race\", \"sort\": {\"op\": \"max\", \"field\": \"sort_field\"}}, \"range\": [0, {\"signal\": \"width\"}], \"paddingInner\": 0.1, \"paddingOuter\": 0.05}, {\"name\": \"y\", \"type\": \"linear\", \"domain\": {\"fields\": [\"count_start\", \"count_end\"], \"data\": \"data_0\"}, \"range\": [{\"signal\": \"height\"}, 0], \"zero\": true, \"nice\": true}, {\"name\": \"color\", \"type\": \"ordinal\", \"domain\": {\"data\": \"source_0_color_domain_ar_sex\", \"field\": \"ar_sex\", \"sort\": {\"op\": \"max\", \"field\": \"sort_field\"}}, \"range\": {\"scheme\": \"magma\"}, \"reverse\": false}], \"axes\": [{\"scale\": \"y\", \"orient\": \"left\", \"ticks\": false, \"domain\": false, \"labels\": false, \"gridScale\": \"x\", \"aria\": false, \"grid\": true, \"minExtent\": 0, \"tickCount\": {\"signal\": \"ceil(height/40)\"}, \"maxExtent\": 0, \"zindex\": 0}, {\"scale\": \"x\", \"zindex\": 0, \"title\": \"Race\", \"grid\": false, \"orient\": \"bottom\", \"labelAngle\": 0, \"labelBaseline\": \"top\"}, {\"scale\": \"y\", \"orient\": \"left\", \"grid\": false, \"title\": \"Arrest Count\", \"tickCount\": {\"signal\": \"ceil(height/40)\"}, \"zindex\": 0, \"labelOverlap\": true}], \"title\": {\"text\": \"Arrestee's Race and Gender\", \"fontSize\": 18, \"offset\": 20, \"font\": \"Century\", \"orient\": \"top\", \"frame\": \"group\"}, \"legends\": [{\"fill\": \"color\", \"symbolType\": \"square\", \"title\": \"ar_sex\"}], \"width\": 800, \"style\": \"cell\", \"height\": 300, \"padding\": 5, \"background\": \"white\"}, {\"mode\": \"vega\"});\n",
       "</script>"
      ],
      "text/plain": [
       "alt.Chart(...)"
      ]
     },
     "execution_count": 44,
     "metadata": {},
     "output_type": "execute_result"
    }
   ],
   "source": [
    "# Gender Race Data\n",
    "\n",
    "color_scale = alt.Scale(\n",
    "    type='band',\n",
    "    scheme = 'magma',\n",
    "    domainMid= 0,\n",
    "    reverse = False\n",
    ")\n",
    "    \n",
    "race_gender_bar = alt.Chart(gender_race_data, title = chart_title_func(\"Arrestee's Race and Gender\",))\\\n",
    "    .mark_bar()\\\n",
    "    .encode(\n",
    "        alt.X(\"ar_race\", axis=alt.Axis(labelAngle=0), title = 'Race').sort(['descending']),\n",
    "        alt.Y('count', title = 'Arrest Count'),\n",
    "        tooltip=[\"ar_sex\", \"count\"],\n",
    "        color = alt.Color('ar_sex', scale=color_scale).sort(['descending'])\n",
    "    ).properties(\n",
    "        width=800,\n",
    "        height=300\n",
    "    )\n",
    "\n",
    "race_gender_bar"
   ]
  }
 ],
 "metadata": {
  "kernelspec": {
   "display_name": "Python 3 (ipykernel)",
   "language": "python",
   "name": "python3"
  },
  "language_info": {
   "codemirror_mode": {
    "name": "ipython",
    "version": 3
   },
   "file_extension": ".py",
   "mimetype": "text/x-python",
   "name": "python",
   "nbconvert_exporter": "python",
   "pygments_lexer": "ipython3",
   "version": "3.11.3"
  }
 },
 "nbformat": 4,
 "nbformat_minor": 5
}
